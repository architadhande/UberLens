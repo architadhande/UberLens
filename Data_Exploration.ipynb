{
 "cells": [
  {
   "cell_type": "code",
   "execution_count": 0,
   "metadata": {
    "application/vnd.databricks.v1+cell": {
     "cellMetadata": {
      "byteLimit": 2048000,
      "rowLimit": 10000
     },
     "inputWidgets": {},
     "nuid": "7464ceb1-e5ea-44c3-9d03-7ebc794aa2fd",
     "showTitle": false,
     "tableResultSettingsMap": {},
     "title": ""
    }
   },
   "outputs": [
    {
     "output_type": "display_data",
     "data": {
      "text/html": [
       "<style scoped>\n",
       "  .table-result-container {\n",
       "    max-height: 300px;\n",
       "    overflow: auto;\n",
       "  }\n",
       "  table, th, td {\n",
       "    border: 1px solid black;\n",
       "    border-collapse: collapse;\n",
       "  }\n",
       "  th, td {\n",
       "    padding: 5px;\n",
       "  }\n",
       "  th {\n",
       "    text-align: left;\n",
       "  }\n",
       "</style><div class='table-result-container'><table class='table-result'><thead style='background-color: white'><tr><th>project_status</th><th>start_time</th></tr></thead><tbody><tr><td>UberLens has started</td><td>2025-08-04T04:55:55.464Z</td></tr></tbody></table></div>"
      ]
     },
     "metadata": {
      "application/vnd.databricks.v1+output": {
       "addedWidgets": {},
       "aggData": [],
       "aggError": "",
       "aggOverflow": false,
       "aggSchema": [],
       "aggSeriesLimitReached": false,
       "aggType": "",
       "arguments": {},
       "columnCustomDisplayInfos": {},
       "data": [
        [
         "UberLens has started",
         "2025-08-04T04:55:55.464Z"
        ]
       ],
       "datasetInfos": [
        {
         "name": "_sqldf",
         "schema": {
          "fields": [
           {
            "metadata": {},
            "name": "project_status",
            "nullable": false,
            "type": "string"
           },
           {
            "metadata": {},
            "name": "start_time",
            "nullable": false,
            "type": "timestamp"
           }
          ],
          "type": "struct"
         },
         "tableIdentifier": null,
         "typeStr": "pyspark.sql.connect.dataframe.DataFrame"
        }
       ],
       "dbfsResultPath": null,
       "isJsonSchema": true,
       "metadata": {
        "createTempViewForImplicitDf": true,
        "dataframeName": "_sqldf",
        "executionCount": 2
       },
       "overflow": false,
       "plotOptions": {
        "customPlotOptions": {},
        "displayType": "table",
        "pivotAggregation": null,
        "pivotColumns": null,
        "xColumns": null,
        "yColumns": null
       },
       "removedWidgets": [],
       "schema": [
        {
         "metadata": "{}",
         "name": "project_status",
         "type": "\"string\""
        },
        {
         "metadata": "{}",
         "name": "start_time",
         "type": "\"timestamp\""
        }
       ],
       "type": "table"
      }
     },
     "output_type": "display_data"
    }
   ],
   "source": [
    "SELECT \n",
    "    'UberLens has started' as project_status,\n",
    "    current_timestamp() as start_time;\n"
   ]
  },
  {
   "cell_type": "code",
   "execution_count": 0,
   "metadata": {
    "application/vnd.databricks.v1+cell": {
     "cellMetadata": {
      "byteLimit": 2048000,
      "rowLimit": 10000
     },
     "inputWidgets": {},
     "nuid": "9b809073-f770-4550-8267-9a066dd0de7c",
     "showTitle": false,
     "tableResultSettingsMap": {},
     "title": ""
    }
   },
   "outputs": [
    {
     "output_type": "display_data",
     "data": {
      "text/html": [
       "<style scoped>\n",
       "  .table-result-container {\n",
       "    max-height: 300px;\n",
       "    overflow: auto;\n",
       "  }\n",
       "  table, th, td {\n",
       "    border: 1px solid black;\n",
       "    border-collapse: collapse;\n",
       "  }\n",
       "  th, td {\n",
       "    padding: 5px;\n",
       "  }\n",
       "  th {\n",
       "    text-align: left;\n",
       "  }\n",
       "</style><div class='table-result-container'><table class='table-result'><thead style='background-color: white'><tr><th>col_name</th><th>data_type</th><th>comment</th></tr></thead><tbody><tr><td>VendorID</td><td>bigint</td><td>null</td></tr><tr><td>tpep_pickup_datetime</td><td>timestamp</td><td>null</td></tr><tr><td>tpep_dropoff_datetime</td><td>timestamp</td><td>null</td></tr><tr><td>passenger_count</td><td>bigint</td><td>null</td></tr><tr><td>trip_distance</td><td>double</td><td>null</td></tr><tr><td>pickup_longitude</td><td>double</td><td>null</td></tr><tr><td>pickup_latitude</td><td>double</td><td>null</td></tr><tr><td>RatecodeID</td><td>bigint</td><td>null</td></tr><tr><td>store_and_fwd_flag</td><td>string</td><td>null</td></tr><tr><td>dropoff_longitude</td><td>double</td><td>null</td></tr><tr><td>dropoff_latitude</td><td>double</td><td>null</td></tr><tr><td>payment_type</td><td>bigint</td><td>null</td></tr><tr><td>fare_amount</td><td>double</td><td>null</td></tr><tr><td>extra</td><td>double</td><td>null</td></tr><tr><td>mta_tax</td><td>double</td><td>null</td></tr><tr><td>tip_amount</td><td>double</td><td>null</td></tr><tr><td>tolls_amount</td><td>double</td><td>null</td></tr><tr><td>improvement_surcharge</td><td>double</td><td>null</td></tr><tr><td>total_amount</td><td>double</td><td>null</td></tr></tbody></table></div>"
      ]
     },
     "metadata": {
      "application/vnd.databricks.v1+output": {
       "addedWidgets": {},
       "aggData": [],
       "aggError": "",
       "aggOverflow": false,
       "aggSchema": [],
       "aggSeriesLimitReached": false,
       "aggType": "",
       "arguments": {},
       "columnCustomDisplayInfos": {},
       "data": [
        [
         "VendorID",
         "bigint",
         null
        ],
        [
         "tpep_pickup_datetime",
         "timestamp",
         null
        ],
        [
         "tpep_dropoff_datetime",
         "timestamp",
         null
        ],
        [
         "passenger_count",
         "bigint",
         null
        ],
        [
         "trip_distance",
         "double",
         null
        ],
        [
         "pickup_longitude",
         "double",
         null
        ],
        [
         "pickup_latitude",
         "double",
         null
        ],
        [
         "RatecodeID",
         "bigint",
         null
        ],
        [
         "store_and_fwd_flag",
         "string",
         null
        ],
        [
         "dropoff_longitude",
         "double",
         null
        ],
        [
         "dropoff_latitude",
         "double",
         null
        ],
        [
         "payment_type",
         "bigint",
         null
        ],
        [
         "fare_amount",
         "double",
         null
        ],
        [
         "extra",
         "double",
         null
        ],
        [
         "mta_tax",
         "double",
         null
        ],
        [
         "tip_amount",
         "double",
         null
        ],
        [
         "tolls_amount",
         "double",
         null
        ],
        [
         "improvement_surcharge",
         "double",
         null
        ],
        [
         "total_amount",
         "double",
         null
        ]
       ],
       "datasetInfos": [
        {
         "name": "_sqldf",
         "schema": {
          "fields": [
           {
            "metadata": {},
            "name": "col_name",
            "nullable": false,
            "type": "string"
           },
           {
            "metadata": {},
            "name": "data_type",
            "nullable": false,
            "type": "string"
           },
           {
            "metadata": {},
            "name": "comment",
            "nullable": true,
            "type": "string"
           }
          ],
          "type": "struct"
         },
         "tableIdentifier": null,
         "typeStr": "pyspark.sql.connect.dataframe.DataFrame"
        }
       ],
       "dbfsResultPath": null,
       "isJsonSchema": true,
       "metadata": {
        "createTempViewForImplicitDf": true,
        "dataframeName": "_sqldf",
        "executionCount": 8
       },
       "overflow": false,
       "plotOptions": {
        "customPlotOptions": {},
        "displayType": "table",
        "pivotAggregation": null,
        "pivotColumns": null,
        "xColumns": null,
        "yColumns": null
       },
       "removedWidgets": [],
       "schema": [
        {
         "metadata": "{}",
         "name": "col_name",
         "type": "\"string\""
        },
        {
         "metadata": "{}",
         "name": "data_type",
         "type": "\"string\""
        },
        {
         "metadata": "{}",
         "name": "comment",
         "type": "\"string\""
        }
       ],
       "type": "table"
      }
     },
     "output_type": "display_data"
    }
   ],
   "source": [
    "DESCRIBE TABLE uber_data;"
   ]
  },
  {
   "cell_type": "code",
   "execution_count": 0,
   "metadata": {
    "application/vnd.databricks.v1+cell": {
     "cellMetadata": {
      "byteLimit": 2048000,
      "rowLimit": 10000
     },
     "inputWidgets": {},
     "nuid": "0be6ca61-0f81-4a72-8cbb-a4bd5a1e3b74",
     "showTitle": false,
     "tableResultSettingsMap": {},
     "title": ""
    }
   },
   "outputs": [
    {
     "output_type": "display_data",
     "data": {
      "text/html": [
       "<style scoped>\n",
       "  .table-result-container {\n",
       "    max-height: 300px;\n",
       "    overflow: auto;\n",
       "  }\n",
       "  table, th, td {\n",
       "    border: 1px solid black;\n",
       "    border-collapse: collapse;\n",
       "  }\n",
       "  th, td {\n",
       "    padding: 5px;\n",
       "  }\n",
       "  th {\n",
       "    text-align: left;\n",
       "  }\n",
       "</style><div class='table-result-container'><table class='table-result'><thead style='background-color: white'><tr><th>VendorID</th><th>tpep_pickup_datetime</th><th>tpep_dropoff_datetime</th><th>passenger_count</th><th>trip_distance</th><th>pickup_longitude</th><th>pickup_latitude</th><th>RatecodeID</th><th>store_and_fwd_flag</th><th>dropoff_longitude</th><th>dropoff_latitude</th><th>payment_type</th><th>fare_amount</th><th>extra</th><th>mta_tax</th><th>tip_amount</th><th>tolls_amount</th><th>improvement_surcharge</th><th>total_amount</th></tr></thead><tbody><tr><td>1</td><td>2016-03-01T00:00:00.000Z</td><td>2016-03-01T00:07:55.000Z</td><td>1</td><td>2.5</td><td>-73.97674560546875</td><td>40.765151977539055</td><td>1</td><td>N</td><td>-74.00426483154298</td><td>40.74612808227539</td><td>1</td><td>9.0</td><td>0.5</td><td>0.5</td><td>2.05</td><td>0.0</td><td>0.3</td><td>12.35</td></tr><tr><td>1</td><td>2016-03-01T00:00:00.000Z</td><td>2016-03-01T00:11:06.000Z</td><td>1</td><td>2.9</td><td>-73.98348236083984</td><td>40.767925262451165</td><td>1</td><td>N</td><td>-74.00594329833984</td><td>40.7331657409668</td><td>1</td><td>11.0</td><td>0.5</td><td>0.5</td><td>3.05</td><td>0.0</td><td>0.3</td><td>15.35</td></tr><tr><td>2</td><td>2016-03-01T00:00:00.000Z</td><td>2016-03-01T00:31:06.000Z</td><td>2</td><td>19.98</td><td>-73.78202056884764</td><td>40.64480972290039</td><td>1</td><td>N</td><td>-73.97454071044923</td><td>40.6757698059082</td><td>1</td><td>54.5</td><td>0.5</td><td>0.5</td><td>8.0</td><td>0.0</td><td>0.3</td><td>63.8</td></tr><tr><td>2</td><td>2016-03-01T00:00:00.000Z</td><td>2016-03-01T00:00:00.000Z</td><td>3</td><td>10.78</td><td>-73.86341857910156</td><td>40.769813537597656</td><td>1</td><td>N</td><td>-73.96965026855469</td><td>40.757766723632805</td><td>1</td><td>31.5</td><td>0.0</td><td>0.5</td><td>3.78</td><td>5.54</td><td>0.3</td><td>41.62</td></tr><tr><td>2</td><td>2016-03-01T00:00:00.000Z</td><td>2016-03-01T00:00:00.000Z</td><td>5</td><td>30.43</td><td>-73.97174072265625</td><td>40.79218292236328</td><td>3</td><td>N</td><td>-74.17716979980467</td><td>40.69505310058594</td><td>1</td><td>98.0</td><td>0.0</td><td>0.0</td><td>0.0</td><td>15.5</td><td>0.3</td><td>113.8</td></tr><tr><td>2</td><td>2016-03-01T00:00:00.000Z</td><td>2016-03-01T00:00:00.000Z</td><td>5</td><td>5.92</td><td>-74.01719665527344</td><td>40.70538330078125</td><td>1</td><td>N</td><td>-73.97807312011719</td><td>40.75578689575195</td><td>1</td><td>23.5</td><td>1.0</td><td>0.5</td><td>5.06</td><td>0.0</td><td>0.3</td><td>30.36</td></tr><tr><td>2</td><td>2016-03-01T00:00:00.000Z</td><td>2016-03-01T00:00:00.000Z</td><td>6</td><td>5.72</td><td>-73.99458312988281</td><td>40.72784805297852</td><td>1</td><td>N</td><td>0.0</td><td>0.0</td><td>2</td><td>23.0</td><td>0.5</td><td>0.5</td><td>0.0</td><td>0.0</td><td>0.3</td><td>24.3</td></tr><tr><td>1</td><td>2016-03-01T00:00:01.000Z</td><td>2016-03-01T00:16:04.000Z</td><td>1</td><td>6.2</td><td>-73.78877258300781</td><td>40.64775848388672</td><td>1</td><td>N</td><td>-73.82920837402342</td><td>40.712345123291016</td><td>3</td><td>20.5</td><td>0.5</td><td>0.5</td><td>0.0</td><td>0.0</td><td>0.3</td><td>21.8</td></tr><tr><td>1</td><td>2016-03-01T00:00:01.000Z</td><td>2016-03-01T00:05:00.000Z</td><td>1</td><td>0.7</td><td>-73.95822143554686</td><td>40.76464080810546</td><td>1</td><td>N</td><td>-73.9678955078125</td><td>40.76290130615234</td><td>1</td><td>5.5</td><td>0.5</td><td>0.5</td><td>2.0</td><td>0.0</td><td>0.3</td><td>8.8</td></tr><tr><td>2</td><td>2016-03-01T00:00:01.000Z</td><td>2016-03-01T00:24:06.000Z</td><td>3</td><td>7.18</td><td>-73.98577880859375</td><td>40.74119186401367</td><td>1</td><td>N</td><td>-73.94635009765625</td><td>40.79787826538086</td><td>1</td><td>23.5</td><td>0.5</td><td>0.5</td><td>3.2</td><td>0.0</td><td>0.3</td><td>28.0</td></tr></tbody></table></div>"
      ]
     },
     "metadata": {
      "application/vnd.databricks.v1+output": {
       "addedWidgets": {},
       "aggData": [],
       "aggError": "",
       "aggOverflow": false,
       "aggSchema": [],
       "aggSeriesLimitReached": false,
       "aggType": "",
       "arguments": {},
       "columnCustomDisplayInfos": {},
       "data": [
        [
         1,
         "2016-03-01T00:00:00.000Z",
         "2016-03-01T00:07:55.000Z",
         1,
         2.5,
         -73.97674560546875,
         40.765151977539055,
         1,
         "N",
         -74.00426483154298,
         40.74612808227539,
         1,
         9.0,
         0.5,
         0.5,
         2.05,
         0.0,
         0.3,
         12.35
        ],
        [
         1,
         "2016-03-01T00:00:00.000Z",
         "2016-03-01T00:11:06.000Z",
         1,
         2.9,
         -73.98348236083984,
         40.767925262451165,
         1,
         "N",
         -74.00594329833984,
         40.7331657409668,
         1,
         11.0,
         0.5,
         0.5,
         3.05,
         0.0,
         0.3,
         15.35
        ],
        [
         2,
         "2016-03-01T00:00:00.000Z",
         "2016-03-01T00:31:06.000Z",
         2,
         19.98,
         -73.78202056884764,
         40.64480972290039,
         1,
         "N",
         -73.97454071044923,
         40.6757698059082,
         1,
         54.5,
         0.5,
         0.5,
         8.0,
         0.0,
         0.3,
         63.8
        ],
        [
         2,
         "2016-03-01T00:00:00.000Z",
         "2016-03-01T00:00:00.000Z",
         3,
         10.78,
         -73.86341857910156,
         40.769813537597656,
         1,
         "N",
         -73.96965026855469,
         40.757766723632805,
         1,
         31.5,
         0.0,
         0.5,
         3.78,
         5.54,
         0.3,
         41.62
        ],
        [
         2,
         "2016-03-01T00:00:00.000Z",
         "2016-03-01T00:00:00.000Z",
         5,
         30.43,
         -73.97174072265625,
         40.79218292236328,
         3,
         "N",
         -74.17716979980467,
         40.69505310058594,
         1,
         98.0,
         0.0,
         0.0,
         0.0,
         15.5,
         0.3,
         113.8
        ],
        [
         2,
         "2016-03-01T00:00:00.000Z",
         "2016-03-01T00:00:00.000Z",
         5,
         5.92,
         -74.01719665527344,
         40.70538330078125,
         1,
         "N",
         -73.97807312011719,
         40.75578689575195,
         1,
         23.5,
         1.0,
         0.5,
         5.06,
         0.0,
         0.3,
         30.36
        ],
        [
         2,
         "2016-03-01T00:00:00.000Z",
         "2016-03-01T00:00:00.000Z",
         6,
         5.72,
         -73.99458312988281,
         40.72784805297852,
         1,
         "N",
         0.0,
         0.0,
         2,
         23.0,
         0.5,
         0.5,
         0.0,
         0.0,
         0.3,
         24.3
        ],
        [
         1,
         "2016-03-01T00:00:01.000Z",
         "2016-03-01T00:16:04.000Z",
         1,
         6.2,
         -73.78877258300781,
         40.64775848388672,
         1,
         "N",
         -73.82920837402342,
         40.712345123291016,
         3,
         20.5,
         0.5,
         0.5,
         0.0,
         0.0,
         0.3,
         21.8
        ],
        [
         1,
         "2016-03-01T00:00:01.000Z",
         "2016-03-01T00:05:00.000Z",
         1,
         0.7,
         -73.95822143554686,
         40.76464080810546,
         1,
         "N",
         -73.9678955078125,
         40.76290130615234,
         1,
         5.5,
         0.5,
         0.5,
         2.0,
         0.0,
         0.3,
         8.8
        ],
        [
         2,
         "2016-03-01T00:00:01.000Z",
         "2016-03-01T00:24:06.000Z",
         3,
         7.18,
         -73.98577880859375,
         40.74119186401367,
         1,
         "N",
         -73.94635009765625,
         40.79787826538086,
         1,
         23.5,
         0.5,
         0.5,
         3.2,
         0.0,
         0.3,
         28.0
        ]
       ],
       "datasetInfos": [
        {
         "name": "_sqldf",
         "schema": {
          "fields": [
           {
            "metadata": {},
            "name": "VendorID",
            "nullable": true,
            "type": "long"
           },
           {
            "metadata": {},
            "name": "tpep_pickup_datetime",
            "nullable": true,
            "type": "timestamp"
           },
           {
            "metadata": {},
            "name": "tpep_dropoff_datetime",
            "nullable": true,
            "type": "timestamp"
           },
           {
            "metadata": {},
            "name": "passenger_count",
            "nullable": true,
            "type": "long"
           },
           {
            "metadata": {},
            "name": "trip_distance",
            "nullable": true,
            "type": "double"
           },
           {
            "metadata": {},
            "name": "pickup_longitude",
            "nullable": true,
            "type": "double"
           },
           {
            "metadata": {},
            "name": "pickup_latitude",
            "nullable": true,
            "type": "double"
           },
           {
            "metadata": {},
            "name": "RatecodeID",
            "nullable": true,
            "type": "long"
           },
           {
            "metadata": {},
            "name": "store_and_fwd_flag",
            "nullable": true,
            "type": "string"
           },
           {
            "metadata": {},
            "name": "dropoff_longitude",
            "nullable": true,
            "type": "double"
           },
           {
            "metadata": {},
            "name": "dropoff_latitude",
            "nullable": true,
            "type": "double"
           },
           {
            "metadata": {},
            "name": "payment_type",
            "nullable": true,
            "type": "long"
           },
           {
            "metadata": {},
            "name": "fare_amount",
            "nullable": true,
            "type": "double"
           },
           {
            "metadata": {},
            "name": "extra",
            "nullable": true,
            "type": "double"
           },
           {
            "metadata": {},
            "name": "mta_tax",
            "nullable": true,
            "type": "double"
           },
           {
            "metadata": {},
            "name": "tip_amount",
            "nullable": true,
            "type": "double"
           },
           {
            "metadata": {},
            "name": "tolls_amount",
            "nullable": true,
            "type": "double"
           },
           {
            "metadata": {},
            "name": "improvement_surcharge",
            "nullable": true,
            "type": "double"
           },
           {
            "metadata": {},
            "name": "total_amount",
            "nullable": true,
            "type": "double"
           }
          ],
          "type": "struct"
         },
         "tableIdentifier": null,
         "typeStr": "pyspark.sql.connect.dataframe.DataFrame"
        }
       ],
       "dbfsResultPath": null,
       "isJsonSchema": true,
       "metadata": {
        "createTempViewForImplicitDf": true,
        "dataframeName": "_sqldf",
        "executionCount": 9
       },
       "overflow": false,
       "plotOptions": {
        "customPlotOptions": {},
        "displayType": "table",
        "pivotAggregation": null,
        "pivotColumns": null,
        "xColumns": null,
        "yColumns": null
       },
       "removedWidgets": [],
       "schema": [
        {
         "metadata": "{}",
         "name": "VendorID",
         "type": "\"long\""
        },
        {
         "metadata": "{}",
         "name": "tpep_pickup_datetime",
         "type": "\"timestamp\""
        },
        {
         "metadata": "{}",
         "name": "tpep_dropoff_datetime",
         "type": "\"timestamp\""
        },
        {
         "metadata": "{}",
         "name": "passenger_count",
         "type": "\"long\""
        },
        {
         "metadata": "{}",
         "name": "trip_distance",
         "type": "\"double\""
        },
        {
         "metadata": "{}",
         "name": "pickup_longitude",
         "type": "\"double\""
        },
        {
         "metadata": "{}",
         "name": "pickup_latitude",
         "type": "\"double\""
        },
        {
         "metadata": "{}",
         "name": "RatecodeID",
         "type": "\"long\""
        },
        {
         "metadata": "{}",
         "name": "store_and_fwd_flag",
         "type": "\"string\""
        },
        {
         "metadata": "{}",
         "name": "dropoff_longitude",
         "type": "\"double\""
        },
        {
         "metadata": "{}",
         "name": "dropoff_latitude",
         "type": "\"double\""
        },
        {
         "metadata": "{}",
         "name": "payment_type",
         "type": "\"long\""
        },
        {
         "metadata": "{}",
         "name": "fare_amount",
         "type": "\"double\""
        },
        {
         "metadata": "{}",
         "name": "extra",
         "type": "\"double\""
        },
        {
         "metadata": "{}",
         "name": "mta_tax",
         "type": "\"double\""
        },
        {
         "metadata": "{}",
         "name": "tip_amount",
         "type": "\"double\""
        },
        {
         "metadata": "{}",
         "name": "tolls_amount",
         "type": "\"double\""
        },
        {
         "metadata": "{}",
         "name": "improvement_surcharge",
         "type": "\"double\""
        },
        {
         "metadata": "{}",
         "name": "total_amount",
         "type": "\"double\""
        }
       ],
       "type": "table"
      }
     },
     "output_type": "display_data"
    }
   ],
   "source": [
    "SELECT * \n",
    "FROM uber_data\n",
    "LIMIT 10;"
   ]
  },
  {
   "cell_type": "markdown",
   "metadata": {
    "application/vnd.databricks.v1+cell": {
     "cellMetadata": {},
     "inputWidgets": {},
     "nuid": "9ca25d0b-c6cd-4151-9316-4cfb3839660b",
     "showTitle": false,
     "tableResultSettingsMap": {},
     "title": ""
    }
   },
   "source": [
    "### 3. Data Quality Check"
   ]
  },
  {
   "cell_type": "markdown",
   "metadata": {
    "application/vnd.databricks.v1+cell": {
     "cellMetadata": {},
     "inputWidgets": {},
     "nuid": "da67500b-782e-4757-b544-107f8f33d497",
     "showTitle": false,
     "tableResultSettingsMap": {},
     "title": ""
    }
   },
   "source": [
    "Basic data overview"
   ]
  },
  {
   "cell_type": "code",
   "execution_count": 0,
   "metadata": {
    "application/vnd.databricks.v1+cell": {
     "cellMetadata": {
      "byteLimit": 2048000,
      "rowLimit": 10000
     },
     "inputWidgets": {},
     "nuid": "3d827858-44e2-4c0f-a65a-bcf4279f84f9",
     "showTitle": false,
     "tableResultSettingsMap": {},
     "title": ""
    }
   },
   "outputs": [
    {
     "output_type": "display_data",
     "data": {
      "text/html": [
       "<style scoped>\n",
       "  .table-result-container {\n",
       "    max-height: 300px;\n",
       "    overflow: auto;\n",
       "  }\n",
       "  table, th, td {\n",
       "    border: 1px solid black;\n",
       "    border-collapse: collapse;\n",
       "  }\n",
       "  th, td {\n",
       "    padding: 5px;\n",
       "  }\n",
       "  th {\n",
       "    text-align: left;\n",
       "  }\n",
       "</style><div class='table-result-container'><table class='table-result'><thead style='background-color: white'><tr><th>total_records</th><th>unique_vendors</th><th>earliest_ride</th><th>latest_ride</th><th>avg_distance</th><th>avg_total_amount</th></tr></thead><tbody><tr><td>100000</td><td>2</td><td>2016-03-01T00:00:00.000Z</td><td>2016-03-10T14:27:09.000Z</td><td>3.03</td><td>16.39</td></tr></tbody></table></div>"
      ]
     },
     "metadata": {
      "application/vnd.databricks.v1+output": {
       "addedWidgets": {},
       "aggData": [],
       "aggError": "",
       "aggOverflow": false,
       "aggSchema": [],
       "aggSeriesLimitReached": false,
       "aggType": "",
       "arguments": {},
       "columnCustomDisplayInfos": {},
       "data": [
        [
         100000,
         2,
         "2016-03-01T00:00:00.000Z",
         "2016-03-10T14:27:09.000Z",
         3.03,
         16.39
        ]
       ],
       "datasetInfos": [
        {
         "name": "_sqldf",
         "schema": {
          "fields": [
           {
            "metadata": {},
            "name": "total_records",
            "nullable": false,
            "type": "long"
           },
           {
            "metadata": {},
            "name": "unique_vendors",
            "nullable": false,
            "type": "long"
           },
           {
            "metadata": {},
            "name": "earliest_ride",
            "nullable": true,
            "type": "timestamp"
           },
           {
            "metadata": {},
            "name": "latest_ride",
            "nullable": true,
            "type": "timestamp"
           },
           {
            "metadata": {},
            "name": "avg_distance",
            "nullable": true,
            "type": "double"
           },
           {
            "metadata": {},
            "name": "avg_total_amount",
            "nullable": true,
            "type": "double"
           }
          ],
          "type": "struct"
         },
         "tableIdentifier": null,
         "typeStr": "pyspark.sql.connect.dataframe.DataFrame"
        }
       ],
       "dbfsResultPath": null,
       "isJsonSchema": true,
       "metadata": {
        "createTempViewForImplicitDf": true,
        "dataframeName": "_sqldf",
        "executionCount": 11
       },
       "overflow": false,
       "plotOptions": {
        "customPlotOptions": {},
        "displayType": "table",
        "pivotAggregation": null,
        "pivotColumns": null,
        "xColumns": null,
        "yColumns": null
       },
       "removedWidgets": [],
       "schema": [
        {
         "metadata": "{}",
         "name": "total_records",
         "type": "\"long\""
        },
        {
         "metadata": "{}",
         "name": "unique_vendors",
         "type": "\"long\""
        },
        {
         "metadata": "{}",
         "name": "earliest_ride",
         "type": "\"timestamp\""
        },
        {
         "metadata": "{}",
         "name": "latest_ride",
         "type": "\"timestamp\""
        },
        {
         "metadata": "{}",
         "name": "avg_distance",
         "type": "\"double\""
        },
        {
         "metadata": "{}",
         "name": "avg_total_amount",
         "type": "\"double\""
        }
       ],
       "type": "table"
      }
     },
     "output_type": "display_data"
    }
   ],
   "source": [
    "SELECT \n",
    "    COUNT(*) as total_records,\n",
    "    COUNT(DISTINCT VendorID) as unique_vendors,\n",
    "    MIN(tpep_pickup_datetime) as earliest_ride,\n",
    "    MAX(tpep_pickup_datetime) as latest_ride,\n",
    "    ROUND(AVG(trip_distance), 2) as avg_distance,\n",
    "    ROUND(AVG(total_amount), 2) as avg_total_amount\n",
    "FROM uber_data;"
   ]
  },
  {
   "cell_type": "markdown",
   "metadata": {
    "application/vnd.databricks.v1+cell": {
     "cellMetadata": {},
     "inputWidgets": {},
     "nuid": "af15e60b-0459-4695-9c27-89873f9c1564",
     "showTitle": false,
     "tableResultSettingsMap": {},
     "title": ""
    }
   },
   "source": [
    "Missing data analysis"
   ]
  },
  {
   "cell_type": "code",
   "execution_count": 0,
   "metadata": {
    "application/vnd.databricks.v1+cell": {
     "cellMetadata": {
      "byteLimit": 2048000,
      "rowLimit": 10000
     },
     "inputWidgets": {},
     "nuid": "54d2acf7-34d8-4198-9757-ec25bbec8933",
     "showTitle": false,
     "tableResultSettingsMap": {},
     "title": ""
    }
   },
   "outputs": [
    {
     "output_type": "display_data",
     "data": {
      "text/html": [
       "<style scoped>\n",
       "  .table-result-container {\n",
       "    max-height: 300px;\n",
       "    overflow: auto;\n",
       "  }\n",
       "  table, th, td {\n",
       "    border: 1px solid black;\n",
       "    border-collapse: collapse;\n",
       "  }\n",
       "  th, td {\n",
       "    padding: 5px;\n",
       "  }\n",
       "  th {\n",
       "    text-align: left;\n",
       "  }\n",
       "</style><div class='table-result-container'><table class='table-result'><thead style='background-color: white'><tr><th>total_rows</th><th>missing_vendor_id</th><th>missing_pickup_time</th><th>missing_passenger_count</th><th>missing_trip_distance</th><th>missing_fare_amount</th><th>missing_total_amount</th></tr></thead><tbody><tr><td>100000</td><td>0</td><td>0</td><td>0</td><td>0</td><td>0</td><td>0</td></tr></tbody></table></div>"
      ]
     },
     "metadata": {
      "application/vnd.databricks.v1+output": {
       "addedWidgets": {},
       "aggData": [],
       "aggError": "",
       "aggOverflow": false,
       "aggSchema": [],
       "aggSeriesLimitReached": false,
       "aggType": "",
       "arguments": {},
       "columnCustomDisplayInfos": {},
       "data": [
        [
         100000,
         0,
         0,
         0,
         0,
         0,
         0
        ]
       ],
       "datasetInfos": [
        {
         "name": "_sqldf",
         "schema": {
          "fields": [
           {
            "metadata": {},
            "name": "total_rows",
            "nullable": false,
            "type": "long"
           },
           {
            "metadata": {},
            "name": "missing_vendor_id",
            "nullable": false,
            "type": "long"
           },
           {
            "metadata": {},
            "name": "missing_pickup_time",
            "nullable": false,
            "type": "long"
           },
           {
            "metadata": {},
            "name": "missing_passenger_count",
            "nullable": false,
            "type": "long"
           },
           {
            "metadata": {},
            "name": "missing_trip_distance",
            "nullable": false,
            "type": "long"
           },
           {
            "metadata": {},
            "name": "missing_fare_amount",
            "nullable": false,
            "type": "long"
           },
           {
            "metadata": {},
            "name": "missing_total_amount",
            "nullable": false,
            "type": "long"
           }
          ],
          "type": "struct"
         },
         "tableIdentifier": null,
         "typeStr": "pyspark.sql.connect.dataframe.DataFrame"
        }
       ],
       "dbfsResultPath": null,
       "isJsonSchema": true,
       "metadata": {
        "createTempViewForImplicitDf": true,
        "dataframeName": "_sqldf",
        "executionCount": 12
       },
       "overflow": false,
       "plotOptions": {
        "customPlotOptions": {},
        "displayType": "table",
        "pivotAggregation": null,
        "pivotColumns": null,
        "xColumns": null,
        "yColumns": null
       },
       "removedWidgets": [],
       "schema": [
        {
         "metadata": "{}",
         "name": "total_rows",
         "type": "\"long\""
        },
        {
         "metadata": "{}",
         "name": "missing_vendor_id",
         "type": "\"long\""
        },
        {
         "metadata": "{}",
         "name": "missing_pickup_time",
         "type": "\"long\""
        },
        {
         "metadata": "{}",
         "name": "missing_passenger_count",
         "type": "\"long\""
        },
        {
         "metadata": "{}",
         "name": "missing_trip_distance",
         "type": "\"long\""
        },
        {
         "metadata": "{}",
         "name": "missing_fare_amount",
         "type": "\"long\""
        },
        {
         "metadata": "{}",
         "name": "missing_total_amount",
         "type": "\"long\""
        }
       ],
       "type": "table"
      }
     },
     "output_type": "display_data"
    }
   ],
   "source": [
    "SELECT \n",
    "    COUNT(*) as total_rows,\n",
    "    COUNT(*) - COUNT(VendorID) as missing_vendor_id,\n",
    "    COUNT(*) - COUNT(tpep_pickup_datetime) as missing_pickup_time,\n",
    "    COUNT(*) - COUNT(passenger_count) as missing_passenger_count,\n",
    "    COUNT(*) - COUNT(trip_distance) as missing_trip_distance,\n",
    "    COUNT(*) - COUNT(fare_amount) as missing_fare_amount,\n",
    "    COUNT(*) - COUNT(total_amount) as missing_total_amount\n",
    "FROM uber_data;"
   ]
  },
  {
   "cell_type": "markdown",
   "metadata": {
    "application/vnd.databricks.v1+cell": {
     "cellMetadata": {},
     "inputWidgets": {},
     "nuid": "be1d4a04-e762-4111-8f1f-e05476e4a9cf",
     "showTitle": false,
     "tableResultSettingsMap": {},
     "title": ""
    }
   },
   "source": [
    "Data Quality Flag"
   ]
  },
  {
   "cell_type": "code",
   "execution_count": 0,
   "metadata": {
    "application/vnd.databricks.v1+cell": {
     "cellMetadata": {
      "byteLimit": 2048000,
      "rowLimit": 10000
     },
     "inputWidgets": {},
     "nuid": "3a1a9f57-812a-4169-ac62-4ef7481932dc",
     "showTitle": false,
     "tableResultSettingsMap": {},
     "title": ""
    }
   },
   "outputs": [
    {
     "output_type": "display_data",
     "data": {
      "text/html": [
       "<style scoped>\n",
       "  .table-result-container {\n",
       "    max-height: 300px;\n",
       "    overflow: auto;\n",
       "  }\n",
       "  table, th, td {\n",
       "    border: 1px solid black;\n",
       "    border-collapse: collapse;\n",
       "  }\n",
       "  th, td {\n",
       "    padding: 5px;\n",
       "  }\n",
       "  th {\n",
       "    text-align: left;\n",
       "  }\n",
       "</style><div class='table-result-container'><table class='table-result'><thead style='background-color: white'><tr><th>total_records</th><th>zero_distance_trips</th><th>zero_fare_trips</th><th>invalid_passenger_count</th><th>missing_coordinates</th></tr></thead><tbody><tr><td>100000</td><td>584</td><td>101</td><td>3</td><td>925</td></tr></tbody></table></div>"
      ]
     },
     "metadata": {
      "application/vnd.databricks.v1+output": {
       "addedWidgets": {},
       "aggData": [],
       "aggError": "",
       "aggOverflow": false,
       "aggSchema": [],
       "aggSeriesLimitReached": false,
       "aggType": "",
       "arguments": {},
       "columnCustomDisplayInfos": {},
       "data": [
        [
         100000,
         584,
         101,
         3,
         925
        ]
       ],
       "datasetInfos": [
        {
         "name": "_sqldf",
         "schema": {
          "fields": [
           {
            "metadata": {},
            "name": "total_records",
            "nullable": false,
            "type": "long"
           },
           {
            "metadata": {},
            "name": "zero_distance_trips",
            "nullable": true,
            "type": "long"
           },
           {
            "metadata": {},
            "name": "zero_fare_trips",
            "nullable": true,
            "type": "long"
           },
           {
            "metadata": {},
            "name": "invalid_passenger_count",
            "nullable": true,
            "type": "long"
           },
           {
            "metadata": {},
            "name": "missing_coordinates",
            "nullable": true,
            "type": "long"
           }
          ],
          "type": "struct"
         },
         "tableIdentifier": null,
         "typeStr": "pyspark.sql.connect.dataframe.DataFrame"
        }
       ],
       "dbfsResultPath": null,
       "isJsonSchema": true,
       "metadata": {
        "createTempViewForImplicitDf": true,
        "dataframeName": "_sqldf",
        "executionCount": 13
       },
       "overflow": false,
       "plotOptions": {
        "customPlotOptions": {},
        "displayType": "table",
        "pivotAggregation": null,
        "pivotColumns": null,
        "xColumns": null,
        "yColumns": null
       },
       "removedWidgets": [],
       "schema": [
        {
         "metadata": "{}",
         "name": "total_records",
         "type": "\"long\""
        },
        {
         "metadata": "{}",
         "name": "zero_distance_trips",
         "type": "\"long\""
        },
        {
         "metadata": "{}",
         "name": "zero_fare_trips",
         "type": "\"long\""
        },
        {
         "metadata": "{}",
         "name": "invalid_passenger_count",
         "type": "\"long\""
        },
        {
         "metadata": "{}",
         "name": "missing_coordinates",
         "type": "\"long\""
        }
       ],
       "type": "table"
      }
     },
     "output_type": "display_data"
    }
   ],
   "source": [
    "SELECT \n",
    "    COUNT(*) as total_records,\n",
    "    SUM(CASE WHEN trip_distance <= 0 THEN 1 ELSE 0 END) as zero_distance_trips,\n",
    "    SUM(CASE WHEN fare_amount <= 0 THEN 1 ELSE 0 END) as zero_fare_trips,\n",
    "    SUM(CASE WHEN passenger_count <= 0 OR passenger_count > 8 THEN 1 ELSE 0 END) as invalid_passenger_count,\n",
    "    SUM(CASE WHEN pickup_longitude = 0 OR pickup_latitude = 0 THEN 1 ELSE 0 END) as missing_coordinates\n",
    "FROM uber_data;"
   ]
  },
  {
   "cell_type": "markdown",
   "metadata": {
    "application/vnd.databricks.v1+cell": {
     "cellMetadata": {},
     "inputWidgets": {},
     "nuid": "aa786d8c-1569-4db5-9ec8-deb7bc5a7bb3",
     "showTitle": false,
     "tableResultSettingsMap": {},
     "title": ""
    }
   },
   "source": [
    "### 4. First Business Insights"
   ]
  },
  {
   "cell_type": "markdown",
   "metadata": {
    "application/vnd.databricks.v1+cell": {
     "cellMetadata": {},
     "inputWidgets": {},
     "nuid": "58c9cc46-a672-466a-94f2-4f9329e86c47",
     "showTitle": false,
     "tableResultSettingsMap": {},
     "title": ""
    }
   },
   "source": [
    "1. Temporal Pattern Analysis \n",
    "  \n",
    "  \n",
    "Hourly Demand Patterns"
   ]
  },
  {
   "cell_type": "code",
   "execution_count": 0,
   "metadata": {
    "application/vnd.databricks.v1+cell": {
     "cellMetadata": {
      "byteLimit": 2048000,
      "rowLimit": 10000
     },
     "inputWidgets": {},
     "nuid": "1aa0bf89-c62d-4f6b-b02c-cc3ca8f65cde",
     "showTitle": false,
     "tableResultSettingsMap": {},
     "title": ""
    }
   },
   "outputs": [
    {
     "output_type": "display_data",
     "data": {
      "text/html": [
       "<style scoped>\n",
       "  .table-result-container {\n",
       "    max-height: 300px;\n",
       "    overflow: auto;\n",
       "  }\n",
       "  table, th, td {\n",
       "    border: 1px solid black;\n",
       "    border-collapse: collapse;\n",
       "  }\n",
       "  th, td {\n",
       "    padding: 5px;\n",
       "  }\n",
       "  th {\n",
       "    text-align: left;\n",
       "  }\n",
       "</style><div class='table-result-container'><table class='table-result'><thead style='background-color: white'><tr><th>pickup_hour</th><th>trip_count</th><th>avg_fare</th><th>avg_tip</th><th>avg_total</th></tr></thead><tbody><tr><td>0</td><td>7079</td><td>14.01</td><td>1.91</td><td>17.43</td></tr><tr><td>1</td><td>4148</td><td>13.91</td><td>1.75</td><td>17.11</td></tr><tr><td>2</td><td>2602</td><td>12.9</td><td>1.49</td><td>15.8</td></tr><tr><td>3</td><td>1860</td><td>14.09</td><td>1.43</td><td>17.06</td></tr><tr><td>4</td><td>1929</td><td>16.07</td><td>1.88</td><td>19.81</td></tr><tr><td>5</td><td>3697</td><td>14.44</td><td>2.09</td><td>18.41</td></tr><tr><td>6</td><td>1905</td><td>13.58</td><td>2.01</td><td>17.04</td></tr><tr><td>7</td><td>9550</td><td>12.01</td><td>1.82</td><td>14.91</td></tr><tr><td>8</td><td>11708</td><td>12.21</td><td>1.86</td><td>15.13</td></tr><tr><td>9</td><td>10710</td><td>12.59</td><td>1.89</td><td>15.63</td></tr><tr><td>10</td><td>9625</td><td>12.97</td><td>1.91</td><td>16.08</td></tr><tr><td>11</td><td>9609</td><td>13.12</td><td>1.84</td><td>16.12</td></tr><tr><td>12</td><td>10512</td><td>13.24</td><td>1.86</td><td>16.3</td></tr><tr><td>13</td><td>10204</td><td>14.0</td><td>1.94</td><td>17.22</td></tr><tr><td>14</td><td>4862</td><td>14.96</td><td>2.09</td><td>18.43</td></tr></tbody></table></div>"
      ]
     },
     "metadata": {
      "application/vnd.databricks.v1+output": {
       "addedWidgets": {},
       "aggData": [],
       "aggError": "",
       "aggOverflow": false,
       "aggSchema": [],
       "aggSeriesLimitReached": false,
       "aggType": "",
       "arguments": {},
       "columnCustomDisplayInfos": {},
       "data": [
        [
         0,
         7079,
         14.01,
         1.91,
         17.43
        ],
        [
         1,
         4148,
         13.91,
         1.75,
         17.11
        ],
        [
         2,
         2602,
         12.9,
         1.49,
         15.8
        ],
        [
         3,
         1860,
         14.09,
         1.43,
         17.06
        ],
        [
         4,
         1929,
         16.07,
         1.88,
         19.81
        ],
        [
         5,
         3697,
         14.44,
         2.09,
         18.41
        ],
        [
         6,
         1905,
         13.58,
         2.01,
         17.04
        ],
        [
         7,
         9550,
         12.01,
         1.82,
         14.91
        ],
        [
         8,
         11708,
         12.21,
         1.86,
         15.13
        ],
        [
         9,
         10710,
         12.59,
         1.89,
         15.63
        ],
        [
         10,
         9625,
         12.97,
         1.91,
         16.08
        ],
        [
         11,
         9609,
         13.12,
         1.84,
         16.12
        ],
        [
         12,
         10512,
         13.24,
         1.86,
         16.3
        ],
        [
         13,
         10204,
         14.0,
         1.94,
         17.22
        ],
        [
         14,
         4862,
         14.96,
         2.09,
         18.43
        ]
       ],
       "datasetInfos": [
        {
         "name": "_sqldf",
         "schema": {
          "fields": [
           {
            "metadata": {},
            "name": "pickup_hour",
            "nullable": true,
            "type": "integer"
           },
           {
            "metadata": {},
            "name": "trip_count",
            "nullable": false,
            "type": "long"
           },
           {
            "metadata": {},
            "name": "avg_fare",
            "nullable": true,
            "type": "double"
           },
           {
            "metadata": {},
            "name": "avg_tip",
            "nullable": true,
            "type": "double"
           },
           {
            "metadata": {},
            "name": "avg_total",
            "nullable": true,
            "type": "double"
           }
          ],
          "type": "struct"
         },
         "tableIdentifier": null,
         "typeStr": "pyspark.sql.connect.dataframe.DataFrame"
        }
       ],
       "dbfsResultPath": null,
       "isJsonSchema": true,
       "metadata": {
        "createTempViewForImplicitDf": true,
        "dataframeName": "_sqldf",
        "executionCount": 16
       },
       "overflow": false,
       "plotOptions": {
        "customPlotOptions": {},
        "displayType": "table",
        "pivotAggregation": null,
        "pivotColumns": null,
        "xColumns": null,
        "yColumns": null
       },
       "removedWidgets": [],
       "schema": [
        {
         "metadata": "{}",
         "name": "pickup_hour",
         "type": "\"integer\""
        },
        {
         "metadata": "{}",
         "name": "trip_count",
         "type": "\"long\""
        },
        {
         "metadata": "{}",
         "name": "avg_fare",
         "type": "\"double\""
        },
        {
         "metadata": "{}",
         "name": "avg_tip",
         "type": "\"double\""
        },
        {
         "metadata": "{}",
         "name": "avg_total",
         "type": "\"double\""
        }
       ],
       "type": "table"
      }
     },
     "output_type": "display_data"
    }
   ],
   "source": [
    "SELECT \n",
    "    HOUR(tpep_pickup_datetime) as pickup_hour,\n",
    "    COUNT(*) as trip_count,\n",
    "    ROUND(AVG(fare_amount), 2) as avg_fare,\n",
    "    ROUND(AVG(tip_amount), 2) as avg_tip,\n",
    "    ROUND(AVG(total_amount), 2) as avg_total\n",
    "FROM uber_data\n",
    "WHERE tpep_pickup_datetime IS NOT NULL\n",
    "GROUP BY HOUR(tpep_pickup_datetime)\n",
    "ORDER BY pickup_hour;"
   ]
  },
  {
   "cell_type": "markdown",
   "metadata": {
    "application/vnd.databricks.v1+cell": {
     "cellMetadata": {},
     "inputWidgets": {},
     "nuid": "3606876c-6826-4fca-be60-43bf8d6b85b9",
     "showTitle": false,
     "tableResultSettingsMap": {},
     "title": ""
    }
   },
   "source": [
    "Day of the week analysis"
   ]
  },
  {
   "cell_type": "code",
   "execution_count": 0,
   "metadata": {
    "application/vnd.databricks.v1+cell": {
     "cellMetadata": {
      "byteLimit": 2048000,
      "rowLimit": 10000
     },
     "inputWidgets": {},
     "nuid": "2b75e0c9-b577-4430-a5dc-f571a576e1bc",
     "showTitle": false,
     "tableResultSettingsMap": {},
     "title": ""
    }
   },
   "outputs": [
    {
     "output_type": "display_data",
     "data": {
      "text/html": [
       "<style scoped>\n",
       "  .table-result-container {\n",
       "    max-height: 300px;\n",
       "    overflow: auto;\n",
       "  }\n",
       "  table, th, td {\n",
       "    border: 1px solid black;\n",
       "    border-collapse: collapse;\n",
       "  }\n",
       "  th, td {\n",
       "    padding: 5px;\n",
       "  }\n",
       "  th {\n",
       "    text-align: left;\n",
       "  }\n",
       "</style><div class='table-result-container'><table class='table-result'><thead style='background-color: white'><tr><th>day_number</th><th>day_name</th><th>trip_count</th><th>avg_fare</th><th>total_revenue</th></tr></thead><tbody><tr><td>3</td><td>Tuesday</td><td>23220</td><td>14.08</td><td>405907.3</td></tr><tr><td>5</td><td>Thursday</td><td>76780</td><td>13.0</td><td>1233164.79</td></tr></tbody></table></div>"
      ]
     },
     "metadata": {
      "application/vnd.databricks.v1+output": {
       "addedWidgets": {},
       "aggData": [],
       "aggError": "",
       "aggOverflow": false,
       "aggSchema": [],
       "aggSeriesLimitReached": false,
       "aggType": "",
       "arguments": {},
       "columnCustomDisplayInfos": {},
       "data": [
        [
         3,
         "Tuesday",
         23220,
         14.08,
         405907.3
        ],
        [
         5,
         "Thursday",
         76780,
         13.0,
         1233164.79
        ]
       ],
       "datasetInfos": [
        {
         "name": "_sqldf",
         "schema": {
          "fields": [
           {
            "metadata": {},
            "name": "day_number",
            "nullable": true,
            "type": "integer"
           },
           {
            "metadata": {},
            "name": "day_name",
            "nullable": true,
            "type": "string"
           },
           {
            "metadata": {},
            "name": "trip_count",
            "nullable": false,
            "type": "long"
           },
           {
            "metadata": {},
            "name": "avg_fare",
            "nullable": true,
            "type": "double"
           },
           {
            "metadata": {},
            "name": "total_revenue",
            "nullable": true,
            "type": "double"
           }
          ],
          "type": "struct"
         },
         "tableIdentifier": null,
         "typeStr": "pyspark.sql.connect.dataframe.DataFrame"
        }
       ],
       "dbfsResultPath": null,
       "isJsonSchema": true,
       "metadata": {
        "createTempViewForImplicitDf": true,
        "dataframeName": "_sqldf",
        "executionCount": 18
       },
       "overflow": false,
       "plotOptions": {
        "customPlotOptions": {},
        "displayType": "table",
        "pivotAggregation": null,
        "pivotColumns": null,
        "xColumns": null,
        "yColumns": null
       },
       "removedWidgets": [],
       "schema": [
        {
         "metadata": "{}",
         "name": "day_number",
         "type": "\"integer\""
        },
        {
         "metadata": "{}",
         "name": "day_name",
         "type": "\"string\""
        },
        {
         "metadata": "{}",
         "name": "trip_count",
         "type": "\"long\""
        },
        {
         "metadata": "{}",
         "name": "avg_fare",
         "type": "\"double\""
        },
        {
         "metadata": "{}",
         "name": "total_revenue",
         "type": "\"double\""
        }
       ],
       "type": "table"
      }
     },
     "output_type": "display_data"
    }
   ],
   "source": [
    "SELECT \n",
    "    DAYOFWEEK(tpep_pickup_datetime) as day_number,\n",
    "    CASE DAYOFWEEK(tpep_pickup_datetime)\n",
    "        WHEN 1 THEN 'Sunday'\n",
    "        WHEN 2 THEN 'Monday'\n",
    "        WHEN 3 THEN 'Tuesday'\n",
    "        WHEN 4 THEN 'Wednesday'\n",
    "        WHEN 5 THEN 'Thursday'\n",
    "        WHEN 6 THEN 'Friday'\n",
    "        WHEN 7 THEN 'Saturday'\n",
    "    END as day_name,\n",
    "    COUNT(*) as trip_count,\n",
    "    ROUND(AVG(fare_amount), 2) as avg_fare,\n",
    "    ROUND(SUM(total_amount), 2) as total_revenue\n",
    "FROM uber_data\n",
    "WHERE tpep_pickup_datetime IS NOT NULL\n",
    "GROUP BY DAYOFWEEK(tpep_pickup_datetime)\n",
    "ORDER BY day_number;"
   ]
  },
  {
   "cell_type": "markdown",
   "metadata": {
    "application/vnd.databricks.v1+cell": {
     "cellMetadata": {},
     "inputWidgets": {},
     "nuid": "e23b0988-f0e6-4e71-93b7-0879aef9e5e4",
     "showTitle": false,
     "tableResultSettingsMap": {},
     "title": ""
    }
   },
   "source": [
    "2. Revenue Analysis: Payment method analysis"
   ]
  },
  {
   "cell_type": "code",
   "execution_count": 0,
   "metadata": {
    "application/vnd.databricks.v1+cell": {
     "cellMetadata": {
      "byteLimit": 2048000,
      "rowLimit": 10000
     },
     "inputWidgets": {},
     "nuid": "a46846ea-0089-4793-870e-6a28a4728891",
     "showTitle": false,
     "tableResultSettingsMap": {},
     "title": ""
    }
   },
   "outputs": [
    {
     "output_type": "display_data",
     "data": {
      "text/html": [
       "<style scoped>\n",
       "  .table-result-container {\n",
       "    max-height: 300px;\n",
       "    overflow: auto;\n",
       "  }\n",
       "  table, th, td {\n",
       "    border: 1px solid black;\n",
       "    border-collapse: collapse;\n",
       "  }\n",
       "  th, td {\n",
       "    padding: 5px;\n",
       "  }\n",
       "  th {\n",
       "    text-align: left;\n",
       "  }\n",
       "</style><div class='table-result-container'><table class='table-result'><thead style='background-color: white'><tr><th>payment_type</th><th>payment_method</th><th>trip_count</th><th>avg_fare</th><th>avg_tip</th><th>total_revenue</th><th>percentage_of_trips</th></tr></thead><tbody><tr><td>1</td><td>Credit Card</td><td>66548</td><td>13.93</td><td>2.81</td><td>1202467.81</td><td>66.55</td></tr><tr><td>2</td><td>Cash</td><td>33203</td><td>11.93</td><td>0.0</td><td>434002.97</td><td>33.20</td></tr><tr><td>3</td><td>No Charge</td><td>173</td><td>9.57</td><td>0.04</td><td>1838.95</td><td>0.17</td></tr><tr><td>4</td><td>Dispute</td><td>76</td><td>9.45</td><td>-0.02</td><td>762.36</td><td>0.08</td></tr></tbody></table></div>"
      ]
     },
     "metadata": {
      "application/vnd.databricks.v1+output": {
       "addedWidgets": {},
       "aggData": [],
       "aggError": "",
       "aggOverflow": false,
       "aggSchema": [],
       "aggSeriesLimitReached": false,
       "aggType": "",
       "arguments": {},
       "columnCustomDisplayInfos": {},
       "data": [
        [
         1,
         "Credit Card",
         66548,
         13.93,
         2.81,
         1202467.81,
         "66.55"
        ],
        [
         2,
         "Cash",
         33203,
         11.93,
         0.0,
         434002.97,
         "33.20"
        ],
        [
         3,
         "No Charge",
         173,
         9.57,
         0.04,
         1838.95,
         "0.17"
        ],
        [
         4,
         "Dispute",
         76,
         9.45,
         -0.02,
         762.36,
         "0.08"
        ]
       ],
       "datasetInfos": [
        {
         "name": "_sqldf",
         "schema": {
          "fields": [
           {
            "metadata": {},
            "name": "payment_type",
            "nullable": true,
            "type": "long"
           },
           {
            "metadata": {},
            "name": "payment_method",
            "nullable": false,
            "type": "string"
           },
           {
            "metadata": {},
            "name": "trip_count",
            "nullable": false,
            "type": "long"
           },
           {
            "metadata": {},
            "name": "avg_fare",
            "nullable": true,
            "type": "double"
           },
           {
            "metadata": {},
            "name": "avg_tip",
            "nullable": true,
            "type": "double"
           },
           {
            "metadata": {},
            "name": "total_revenue",
            "nullable": true,
            "type": "double"
           },
           {
            "metadata": {},
            "name": "percentage_of_trips",
            "nullable": true,
            "type": "decimal(27,2)"
           }
          ],
          "type": "struct"
         },
         "tableIdentifier": null,
         "typeStr": "pyspark.sql.connect.dataframe.DataFrame"
        }
       ],
       "dbfsResultPath": null,
       "isJsonSchema": true,
       "metadata": {
        "createTempViewForImplicitDf": true,
        "dataframeName": "_sqldf",
        "executionCount": 20
       },
       "overflow": false,
       "plotOptions": {
        "customPlotOptions": {},
        "displayType": "table",
        "pivotAggregation": null,
        "pivotColumns": null,
        "xColumns": null,
        "yColumns": null
       },
       "removedWidgets": [],
       "schema": [
        {
         "metadata": "{}",
         "name": "payment_type",
         "type": "\"long\""
        },
        {
         "metadata": "{}",
         "name": "payment_method",
         "type": "\"string\""
        },
        {
         "metadata": "{}",
         "name": "trip_count",
         "type": "\"long\""
        },
        {
         "metadata": "{}",
         "name": "avg_fare",
         "type": "\"double\""
        },
        {
         "metadata": "{}",
         "name": "avg_tip",
         "type": "\"double\""
        },
        {
         "metadata": "{}",
         "name": "total_revenue",
         "type": "\"double\""
        },
        {
         "metadata": "{}",
         "name": "percentage_of_trips",
         "type": "\"decimal(27,2)\""
        }
       ],
       "type": "table"
      }
     },
     "output_type": "display_data"
    }
   ],
   "source": [
    "SELECT \n",
    "    payment_type,\n",
    "    CASE payment_type\n",
    "        WHEN 1 THEN 'Credit Card'\n",
    "        WHEN 2 THEN 'Cash'\n",
    "        WHEN 3 THEN 'No Charge'\n",
    "        WHEN 4 THEN 'Dispute'\n",
    "        WHEN 5 THEN 'Unknown'\n",
    "        WHEN 6 THEN 'Voided Trip'\n",
    "        ELSE 'Other'\n",
    "    END as payment_method,\n",
    "    COUNT(*) as trip_count,\n",
    "    ROUND(AVG(fare_amount), 2) as avg_fare,\n",
    "    ROUND(AVG(tip_amount), 2) as avg_tip,\n",
    "    ROUND(SUM(total_amount), 2) as total_revenue,\n",
    "    ROUND(COUNT(*) * 100.0 / SUM(COUNT(*)) OVER (), 2) as percentage_of_trips\n",
    "FROM uber_data\n",
    "GROUP BY payment_type\n",
    "ORDER BY trip_count DESC;"
   ]
  },
  {
   "cell_type": "markdown",
   "metadata": {
    "application/vnd.databricks.v1+cell": {
     "cellMetadata": {},
     "inputWidgets": {},
     "nuid": "0176172f-5638-48e2-a6e9-470162213e22",
     "showTitle": false,
     "tableResultSettingsMap": {},
     "title": ""
    }
   },
   "source": [
    "3. Geographic Analysis: Top pickup locations"
   ]
  },
  {
   "cell_type": "code",
   "execution_count": 0,
   "metadata": {
    "application/vnd.databricks.v1+cell": {
     "cellMetadata": {
      "byteLimit": 2048000,
      "rowLimit": 10000
     },
     "inputWidgets": {},
     "nuid": "396271de-e31b-40e5-a061-1eaeab73a164",
     "showTitle": false,
     "tableResultSettingsMap": {},
     "title": ""
    }
   },
   "outputs": [
    {
     "output_type": "display_data",
     "data": {
      "text/html": [
       "<style scoped>\n",
       "  .table-result-container {\n",
       "    max-height: 300px;\n",
       "    overflow: auto;\n",
       "  }\n",
       "  table, th, td {\n",
       "    border: 1px solid black;\n",
       "    border-collapse: collapse;\n",
       "  }\n",
       "  th, td {\n",
       "    padding: 5px;\n",
       "  }\n",
       "  th {\n",
       "    text-align: left;\n",
       "  }\n",
       "</style><div class='table-result-container'><table class='table-result'><thead style='background-color: white'><tr><th>pickup_lat_rounded</th><th>pickup_lng_rounded</th><th>pickup_count</th><th>avg_fare</th><th>avg_distance</th></tr></thead><tbody><tr><td>40.751</td><td>-73.994</td><td>700</td><td>11.88</td><td>2.14</td></tr><tr><td>40.645</td><td>-73.782</td><td>531</td><td>44.45</td><td>15.6</td></tr><tr><td>40.75</td><td>-73.991</td><td>527</td><td>11.18</td><td>2.08</td></tr><tr><td>40.75</td><td>-73.992</td><td>520</td><td>11.4</td><td>2.06</td></tr><tr><td>40.756</td><td>-73.991</td><td>460</td><td>9.91</td><td>1.79</td></tr><tr><td>40.774</td><td>-73.871</td><td>449</td><td>32.47</td><td>9.67</td></tr><tr><td>40.757</td><td>-73.99</td><td>426</td><td>10.03</td><td>2.07</td></tr><tr><td>40.774</td><td>-73.873</td><td>377</td><td>33.79</td><td>9.68</td></tr><tr><td>40.645</td><td>-73.777</td><td>368</td><td>42.62</td><td>15.16</td></tr><tr><td>40.756</td><td>-73.99</td><td>367</td><td>10.14</td><td>1.96</td></tr><tr><td>40.752</td><td>-73.978</td><td>329</td><td>11.71</td><td>2.26</td></tr><tr><td>40.769</td><td>-73.863</td><td>325</td><td>35.77</td><td>10.36</td></tr><tr><td>40.77</td><td>-73.863</td><td>284</td><td>36.76</td><td>10.75</td></tr><tr><td>40.77</td><td>-73.864</td><td>284</td><td>36.8</td><td>10.61</td></tr><tr><td>40.749</td><td>-73.992</td><td>253</td><td>9.33</td><td>1.68</td></tr><tr><td>40.751</td><td>-73.991</td><td>247</td><td>10.61</td><td>2.26</td></tr><tr><td>40.753</td><td>-73.978</td><td>199</td><td>11.04</td><td>2.01</td></tr><tr><td>40.768</td><td>-73.982</td><td>194</td><td>9.88</td><td>1.76</td></tr><tr><td>40.75</td><td>-73.995</td><td>189</td><td>11.07</td><td>2.17</td></tr><tr><td>40.744</td><td>-74.007</td><td>189</td><td>11.09</td><td>2.61</td></tr></tbody></table></div>"
      ]
     },
     "metadata": {
      "application/vnd.databricks.v1+output": {
       "addedWidgets": {},
       "aggData": [],
       "aggError": "",
       "aggOverflow": false,
       "aggSchema": [],
       "aggSeriesLimitReached": false,
       "aggType": "",
       "arguments": {},
       "columnCustomDisplayInfos": {},
       "data": [
        [
         40.751,
         -73.994,
         700,
         11.88,
         2.14
        ],
        [
         40.645,
         -73.782,
         531,
         44.45,
         15.6
        ],
        [
         40.75,
         -73.991,
         527,
         11.18,
         2.08
        ],
        [
         40.75,
         -73.992,
         520,
         11.4,
         2.06
        ],
        [
         40.756,
         -73.991,
         460,
         9.91,
         1.79
        ],
        [
         40.774,
         -73.871,
         449,
         32.47,
         9.67
        ],
        [
         40.757,
         -73.99,
         426,
         10.03,
         2.07
        ],
        [
         40.774,
         -73.873,
         377,
         33.79,
         9.68
        ],
        [
         40.645,
         -73.777,
         368,
         42.62,
         15.16
        ],
        [
         40.756,
         -73.99,
         367,
         10.14,
         1.96
        ],
        [
         40.752,
         -73.978,
         329,
         11.71,
         2.26
        ],
        [
         40.769,
         -73.863,
         325,
         35.77,
         10.36
        ],
        [
         40.77,
         -73.863,
         284,
         36.76,
         10.75
        ],
        [
         40.77,
         -73.864,
         284,
         36.8,
         10.61
        ],
        [
         40.749,
         -73.992,
         253,
         9.33,
         1.68
        ],
        [
         40.751,
         -73.991,
         247,
         10.61,
         2.26
        ],
        [
         40.753,
         -73.978,
         199,
         11.04,
         2.01
        ],
        [
         40.768,
         -73.982,
         194,
         9.88,
         1.76
        ],
        [
         40.75,
         -73.995,
         189,
         11.07,
         2.17
        ],
        [
         40.744,
         -74.007,
         189,
         11.09,
         2.61
        ]
       ],
       "datasetInfos": [
        {
         "name": "_sqldf",
         "schema": {
          "fields": [
           {
            "metadata": {},
            "name": "pickup_lat_rounded",
            "nullable": true,
            "type": "double"
           },
           {
            "metadata": {},
            "name": "pickup_lng_rounded",
            "nullable": true,
            "type": "double"
           },
           {
            "metadata": {},
            "name": "pickup_count",
            "nullable": false,
            "type": "long"
           },
           {
            "metadata": {},
            "name": "avg_fare",
            "nullable": true,
            "type": "double"
           },
           {
            "metadata": {},
            "name": "avg_distance",
            "nullable": true,
            "type": "double"
           }
          ],
          "type": "struct"
         },
         "tableIdentifier": null,
         "typeStr": "pyspark.sql.connect.dataframe.DataFrame"
        }
       ],
       "dbfsResultPath": null,
       "isJsonSchema": true,
       "metadata": {
        "createTempViewForImplicitDf": true,
        "dataframeName": "_sqldf",
        "executionCount": 22
       },
       "overflow": false,
       "plotOptions": {
        "customPlotOptions": {},
        "displayType": "table",
        "pivotAggregation": null,
        "pivotColumns": null,
        "xColumns": null,
        "yColumns": null
       },
       "removedWidgets": [],
       "schema": [
        {
         "metadata": "{}",
         "name": "pickup_lat_rounded",
         "type": "\"double\""
        },
        {
         "metadata": "{}",
         "name": "pickup_lng_rounded",
         "type": "\"double\""
        },
        {
         "metadata": "{}",
         "name": "pickup_count",
         "type": "\"long\""
        },
        {
         "metadata": "{}",
         "name": "avg_fare",
         "type": "\"double\""
        },
        {
         "metadata": "{}",
         "name": "avg_distance",
         "type": "\"double\""
        }
       ],
       "type": "table"
      }
     },
     "output_type": "display_data"
    }
   ],
   "source": [
    "SELECT \n",
    "    ROUND(pickup_latitude, 3) as pickup_lat_rounded,\n",
    "    ROUND(pickup_longitude, 3) as pickup_lng_rounded,\n",
    "    COUNT(*) as pickup_count,\n",
    "    ROUND(AVG(fare_amount), 2) as avg_fare,\n",
    "    ROUND(AVG(trip_distance), 2) as avg_distance\n",
    "FROM uber_data\n",
    "WHERE pickup_latitude IS NOT NULL \n",
    "    AND pickup_longitude IS NOT NULL\n",
    "    AND pickup_latitude BETWEEN 40.4 AND 41.0\n",
    "    AND pickup_longitude BETWEEN -74.3 AND -73.7\n",
    "GROUP BY ROUND(pickup_latitude, 3), ROUND(pickup_longitude, 3)\n",
    "HAVING COUNT(*) >= 10\n",
    "ORDER BY pickup_count DESC\n",
    "LIMIT 20;"
   ]
  },
  {
   "cell_type": "markdown",
   "metadata": {
    "application/vnd.databricks.v1+cell": {
     "cellMetadata": {},
     "inputWidgets": {},
     "nuid": "9c40cd99-f896-4853-be59-d62c0c2e5afa",
     "showTitle": false,
     "tableResultSettingsMap": {},
     "title": ""
    }
   },
   "source": [
    "5. A dashboard"
   ]
  },
  {
   "cell_type": "code",
   "execution_count": 0,
   "metadata": {
    "application/vnd.databricks.v1+cell": {
     "cellMetadata": {
      "byteLimit": 2048000,
      "rowLimit": 10000
     },
     "inputWidgets": {},
     "nuid": "d1f2fb69-659a-4901-86b4-2189d728f059",
     "showTitle": false,
     "tableResultSettingsMap": {},
     "title": ""
    }
   },
   "outputs": [],
   "source": [
    "CREATE OR REPLACE VIEW hourly_demand AS\n",
    "SELECT \n",
    "    HOUR(tpep_pickup_datetime) as pickup_hour,\n",
    "    COUNT(*) as trip_count,\n",
    "    ROUND(AVG(fare_amount), 2) as avg_fare,\n",
    "    ROUND(SUM(total_amount), 2) as total_revenue\n",
    "FROM uber_data\n",
    "WHERE tpep_pickup_datetime IS NOT NULL\n",
    "GROUP BY HOUR(tpep_pickup_datetime);\n",
    "\n",
    "CREATE OR REPLACE VIEW daily_patterns AS\n",
    "SELECT \n",
    "    DAYOFWEEK(tpep_pickup_datetime) as day_number,\n",
    "    CASE DAYOFWEEK(tpep_pickup_datetime)\n",
    "        WHEN 1 THEN 'Sunday'\n",
    "        WHEN 2 THEN 'Monday'  \n",
    "        WHEN 3 THEN 'Tuesday'\n",
    "        WHEN 4 THEN 'Wednesday'\n",
    "        WHEN 5 THEN 'Thursday'\n",
    "        WHEN 6 THEN 'Friday'\n",
    "        WHEN 7 THEN 'Saturday'\n",
    "    END as day_name,\n",
    "    COUNT(*) as trip_count,\n",
    "    ROUND(AVG(fare_amount), 2) as avg_fare,\n",
    "    ROUND(SUM(total_amount), 2) as total_revenue\n",
    "FROM uber_data\n",
    "WHERE tpep_pickup_datetime IS NOT NULL\n",
    "GROUP BY DAYOFWEEK(tpep_pickup_datetime);"
   ]
  },
  {
   "cell_type": "code",
   "execution_count": 0,
   "metadata": {
    "application/vnd.databricks.v1+cell": {
     "cellMetadata": {
      "byteLimit": 2048000,
      "rowLimit": 10000
     },
     "inputWidgets": {},
     "nuid": "ce17a99e-2c02-44f5-8aeb-b4e37b00630b",
     "showTitle": false,
     "tableResultSettingsMap": {},
     "title": ""
    }
   },
   "outputs": [
    {
     "output_type": "display_data",
     "data": {
      "text/html": [
       "<style scoped>\n",
       "  .table-result-container {\n",
       "    max-height: 300px;\n",
       "    overflow: auto;\n",
       "  }\n",
       "  table, th, td {\n",
       "    border: 1px solid black;\n",
       "    border-collapse: collapse;\n",
       "  }\n",
       "  th, td {\n",
       "    padding: 5px;\n",
       "  }\n",
       "  th {\n",
       "    text-align: left;\n",
       "  }\n",
       "</style><div class='table-result-container'><table class='table-result'><thead style='background-color: white'><tr><th>pickup_hour</th><th>trip_count</th><th>avg_fare</th><th>total_revenue</th></tr></thead><tbody><tr><td>1</td><td>4148</td><td>13.91</td><td>70962.13</td></tr><tr><td>4</td><td>1929</td><td>16.07</td><td>38209.59</td></tr><tr><td>13</td><td>10204</td><td>14.0</td><td>175717.63</td></tr><tr><td>8</td><td>11708</td><td>12.21</td><td>177146.47</td></tr><tr><td>6</td><td>1905</td><td>13.58</td><td>32469.97</td></tr><tr><td>3</td><td>1860</td><td>14.09</td><td>31724.88</td></tr><tr><td>11</td><td>9609</td><td>13.12</td><td>154918.11</td></tr><tr><td>0</td><td>7079</td><td>14.01</td><td>123377.43</td></tr><tr><td>2</td><td>2602</td><td>12.9</td><td>41108.15</td></tr><tr><td>7</td><td>9550</td><td>12.01</td><td>142396.05</td></tr><tr><td>10</td><td>9625</td><td>12.97</td><td>154726.85</td></tr><tr><td>9</td><td>10710</td><td>12.59</td><td>167358.05</td></tr><tr><td>14</td><td>4862</td><td>14.96</td><td>89590.11</td></tr><tr><td>5</td><td>3697</td><td>14.44</td><td>68055.15</td></tr><tr><td>12</td><td>10512</td><td>13.24</td><td>171311.52</td></tr></tbody></table></div>"
      ]
     },
     "metadata": {
      "application/vnd.databricks.v1+output": {
       "addedWidgets": {},
       "aggData": [],
       "aggError": "",
       "aggOverflow": false,
       "aggSchema": [],
       "aggSeriesLimitReached": false,
       "aggType": "",
       "arguments": {},
       "columnCustomDisplayInfos": {},
       "data": [
        [
         1,
         4148,
         13.91,
         70962.13
        ],
        [
         4,
         1929,
         16.07,
         38209.59
        ],
        [
         13,
         10204,
         14.0,
         175717.63
        ],
        [
         8,
         11708,
         12.21,
         177146.47
        ],
        [
         6,
         1905,
         13.58,
         32469.97
        ],
        [
         3,
         1860,
         14.09,
         31724.88
        ],
        [
         11,
         9609,
         13.12,
         154918.11
        ],
        [
         0,
         7079,
         14.01,
         123377.43
        ],
        [
         2,
         2602,
         12.9,
         41108.15
        ],
        [
         7,
         9550,
         12.01,
         142396.05
        ],
        [
         10,
         9625,
         12.97,
         154726.85
        ],
        [
         9,
         10710,
         12.59,
         167358.05
        ],
        [
         14,
         4862,
         14.96,
         89590.11
        ],
        [
         5,
         3697,
         14.44,
         68055.15
        ],
        [
         12,
         10512,
         13.24,
         171311.52
        ]
       ],
       "datasetInfos": [
        {
         "name": "_sqldf",
         "schema": {
          "fields": [
           {
            "metadata": {},
            "name": "pickup_hour",
            "nullable": true,
            "type": "integer"
           },
           {
            "metadata": {},
            "name": "trip_count",
            "nullable": false,
            "type": "long"
           },
           {
            "metadata": {},
            "name": "avg_fare",
            "nullable": true,
            "type": "double"
           },
           {
            "metadata": {},
            "name": "total_revenue",
            "nullable": true,
            "type": "double"
           }
          ],
          "type": "struct"
         },
         "tableIdentifier": null,
         "typeStr": "pyspark.sql.connect.dataframe.DataFrame"
        }
       ],
       "dbfsResultPath": null,
       "isJsonSchema": true,
       "metadata": {
        "createTempViewForImplicitDf": true,
        "dataframeName": "_sqldf",
        "executionCount": 26
       },
       "overflow": false,
       "plotOptions": {
        "customPlotOptions": {},
        "displayType": "table",
        "pivotAggregation": null,
        "pivotColumns": null,
        "xColumns": null,
        "yColumns": null
       },
       "removedWidgets": [],
       "schema": [
        {
         "metadata": "{}",
         "name": "pickup_hour",
         "type": "\"integer\""
        },
        {
         "metadata": "{}",
         "name": "trip_count",
         "type": "\"long\""
        },
        {
         "metadata": "{}",
         "name": "avg_fare",
         "type": "\"double\""
        },
        {
         "metadata": "{}",
         "name": "total_revenue",
         "type": "\"double\""
        }
       ],
       "type": "table"
      }
     },
     "output_type": "display_data"
    }
   ],
   "source": [
    "SELECT *\n",
    "FROM hourly_demand;\n",
    "\n"
   ]
  },
  {
   "cell_type": "code",
   "execution_count": 0,
   "metadata": {
    "application/vnd.databricks.v1+cell": {
     "cellMetadata": {
      "byteLimit": 2048000,
      "rowLimit": 10000
     },
     "inputWidgets": {},
     "nuid": "7678dd2f-2fc5-409f-a4c1-5112e20c94ea",
     "showTitle": false,
     "tableResultSettingsMap": {},
     "title": ""
    }
   },
   "outputs": [
    {
     "output_type": "display_data",
     "data": {
      "text/html": [
       "<style scoped>\n",
       "  .table-result-container {\n",
       "    max-height: 300px;\n",
       "    overflow: auto;\n",
       "  }\n",
       "  table, th, td {\n",
       "    border: 1px solid black;\n",
       "    border-collapse: collapse;\n",
       "  }\n",
       "  th, td {\n",
       "    padding: 5px;\n",
       "  }\n",
       "  th {\n",
       "    text-align: left;\n",
       "  }\n",
       "</style><div class='table-result-container'><table class='table-result'><thead style='background-color: white'><tr><th>day_number</th><th>day_name</th><th>trip_count</th><th>avg_fare</th><th>total_revenue</th></tr></thead><tbody><tr><td>3</td><td>Tuesday</td><td>23220</td><td>14.08</td><td>405907.3</td></tr><tr><td>5</td><td>Thursday</td><td>76780</td><td>13.0</td><td>1233164.79</td></tr></tbody></table></div>"
      ]
     },
     "metadata": {
      "application/vnd.databricks.v1+output": {
       "addedWidgets": {},
       "aggData": [],
       "aggError": "",
       "aggOverflow": false,
       "aggSchema": [],
       "aggSeriesLimitReached": false,
       "aggType": "",
       "arguments": {},
       "columnCustomDisplayInfos": {},
       "data": [
        [
         3,
         "Tuesday",
         23220,
         14.08,
         405907.3
        ],
        [
         5,
         "Thursday",
         76780,
         13.0,
         1233164.79
        ]
       ],
       "datasetInfos": [
        {
         "name": "_sqldf",
         "schema": {
          "fields": [
           {
            "metadata": {},
            "name": "day_number",
            "nullable": true,
            "type": "integer"
           },
           {
            "metadata": {},
            "name": "day_name",
            "nullable": true,
            "type": "string"
           },
           {
            "metadata": {},
            "name": "trip_count",
            "nullable": false,
            "type": "long"
           },
           {
            "metadata": {},
            "name": "avg_fare",
            "nullable": true,
            "type": "double"
           },
           {
            "metadata": {},
            "name": "total_revenue",
            "nullable": true,
            "type": "double"
           }
          ],
          "type": "struct"
         },
         "tableIdentifier": null,
         "typeStr": "pyspark.sql.connect.dataframe.DataFrame"
        }
       ],
       "dbfsResultPath": null,
       "isJsonSchema": true,
       "metadata": {
        "createTempViewForImplicitDf": true,
        "dataframeName": "_sqldf",
        "executionCount": 27
       },
       "overflow": false,
       "plotOptions": {
        "customPlotOptions": {},
        "displayType": "table",
        "pivotAggregation": null,
        "pivotColumns": null,
        "xColumns": null,
        "yColumns": null
       },
       "removedWidgets": [],
       "schema": [
        {
         "metadata": "{}",
         "name": "day_number",
         "type": "\"integer\""
        },
        {
         "metadata": "{}",
         "name": "day_name",
         "type": "\"string\""
        },
        {
         "metadata": "{}",
         "name": "trip_count",
         "type": "\"long\""
        },
        {
         "metadata": "{}",
         "name": "avg_fare",
         "type": "\"double\""
        },
        {
         "metadata": "{}",
         "name": "total_revenue",
         "type": "\"double\""
        }
       ],
       "type": "table"
      }
     },
     "output_type": "display_data"
    }
   ],
   "source": [
    "SELECT *\n",
    "FROM daily_patterns;"
   ]
  }
 ],
 "metadata": {
  "application/vnd.databricks.v1+notebook": {
   "computePreferences": null,
   "dashboards": [],
   "environmentMetadata": {
    "base_environment": "",
    "environment_version": "2"
   },
   "inputWidgetPreferences": null,
   "language": "sql",
   "notebookMetadata": {
    "pythonIndentUnit": 4
   },
   "notebookName": "Data_Exploration",
   "widgets": {}
  },
  "language_info": {
   "name": "sql"
  }
 },
 "nbformat": 4,
 "nbformat_minor": 0
}