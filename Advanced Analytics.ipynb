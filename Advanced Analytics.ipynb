{
 "cells": [
  {
   "cell_type": "markdown",
   "metadata": {
    "application/vnd.databricks.v1+cell": {
     "cellMetadata": {},
     "inputWidgets": {},
     "nuid": "dd7c4336-534e-4340-b381-6152f983576b",
     "showTitle": false,
     "tableResultSettingsMap": {},
     "title": ""
    }
   },
   "source": [
    "## 1. Silver Layer (Enhanced Dataset)"
   ]
  },
  {
   "cell_type": "code",
   "execution_count": 0,
   "metadata": {
    "application/vnd.databricks.v1+cell": {
     "cellMetadata": {
      "byteLimit": 2048000,
      "rowLimit": 10000
     },
     "inputWidgets": {},
     "nuid": "1b45adbb-70b1-4017-92f3-3e2793674d62",
     "showTitle": false,
     "tableResultSettingsMap": {},
     "title": ""
    }
   },
   "outputs": [
    {
     "output_type": "display_data",
     "data": {
      "text/html": [
       "<style scoped>\n",
       "  .table-result-container {\n",
       "    max-height: 300px;\n",
       "    overflow: auto;\n",
       "  }\n",
       "  table, th, td {\n",
       "    border: 1px solid black;\n",
       "    border-collapse: collapse;\n",
       "  }\n",
       "  th, td {\n",
       "    padding: 5px;\n",
       "  }\n",
       "  th {\n",
       "    text-align: left;\n",
       "  }\n",
       "</style><div class='table-result-container'><table class='table-result'><thead style='background-color: white'><tr><th>status</th><th>clean_records</th></tr></thead><tbody><tr><td>Enhanced dataset created successfully!</td><td>98574</td></tr></tbody></table></div>"
      ]
     },
     "metadata": {
      "application/vnd.databricks.v1+output": {
       "addedWidgets": {},
       "aggData": [],
       "aggError": "",
       "aggOverflow": false,
       "aggSchema": [],
       "aggSeriesLimitReached": false,
       "aggType": "",
       "arguments": {},
       "columnCustomDisplayInfos": {},
       "data": [
        [
         "Enhanced dataset created successfully!",
         98574
        ]
       ],
       "datasetInfos": [
        {
         "name": "_sqldf",
         "schema": {
          "fields": [
           {
            "metadata": {},
            "name": "status",
            "nullable": false,
            "type": "string"
           },
           {
            "metadata": {},
            "name": "clean_records",
            "nullable": false,
            "type": "long"
           }
          ],
          "type": "struct"
         },
         "tableIdentifier": null,
         "typeStr": "pyspark.sql.connect.dataframe.DataFrame"
        }
       ],
       "dbfsResultPath": null,
       "isJsonSchema": true,
       "metadata": {
        "createTempViewForImplicitDf": true,
        "dataframeName": "_sqldf",
        "executionCount": 1
       },
       "overflow": false,
       "plotOptions": {
        "customPlotOptions": {},
        "displayType": "table",
        "pivotAggregation": null,
        "pivotColumns": null,
        "xColumns": null,
        "yColumns": null
       },
       "removedWidgets": [],
       "schema": [
        {
         "metadata": "{}",
         "name": "status",
         "type": "\"string\""
        },
        {
         "metadata": "{}",
         "name": "clean_records",
         "type": "\"long\""
        }
       ],
       "type": "table"
      }
     },
     "output_type": "display_data"
    }
   ],
   "source": [
    "CREATE OR REPLACE TABLE uber_rides_enhanced AS\n",
    "SELECT \n",
    "    *,\n",
    "    HOUR(tpep_pickup_datetime) AS pickup_hour,\n",
    "    DAYOFWEEK(tpep_pickup_datetime) AS pickup_day_of_week,\n",
    "    CASE DAYOFWEEK(tpep_pickup_datetime)\n",
    "        WHEN 1 THEN 'Sunday' WHEN 2 THEN 'Monday' WHEN 3 THEN 'Tuesday'\n",
    "        WHEN 4 THEN 'Wednesday' WHEN 5 THEN 'Thursday' \n",
    "        WHEN 6 THEN 'Friday' WHEN 7 THEN 'Saturday'\n",
    "    END AS pickup_day_name,\n",
    "    MONTH(tpep_pickup_datetime) AS pickup_month,\n",
    "    YEAR(tpep_pickup_datetime) AS pickup_year,\n",
    "    CASE \n",
    "        WHEN HOUR(tpep_pickup_datetime) BETWEEN 6 AND 11 THEN 'Morning'\n",
    "        WHEN HOUR(tpep_pickup_datetime) BETWEEN 12 AND 17 THEN 'Afternoon'\n",
    "        WHEN HOUR(tpep_pickup_datetime) BETWEEN 18 AND 22 THEN 'Evening'\n",
    "        ELSE 'Night'\n",
    "    END AS time_of_day,\n",
    "    CASE \n",
    "        WHEN DAYOFWEEK(tpep_pickup_datetime) IN (1, 7) THEN 1 \n",
    "        ELSE 0 \n",
    "    END AS is_weekend,\n",
    "    CASE \n",
    "        WHEN HOUR(tpep_pickup_datetime) BETWEEN 7 AND 9 \n",
    "          OR HOUR(tpep_pickup_datetime) BETWEEN 17 AND 19 THEN 1\n",
    "        ELSE 0 \n",
    "    END AS is_rush_hour,\n",
    "    ROUND((UNIX_TIMESTAMP(tpep_dropoff_datetime) - UNIX_TIMESTAMP(tpep_pickup_datetime)) / 60, 2) AS trip_duration_minutes,\n",
    "    CASE \n",
    "        WHEN fare_amount > 0 THEN ROUND(tip_amount / fare_amount * 100, 2)\n",
    "        ELSE 0 \n",
    "    END AS tip_percentage,\n",
    "    CASE \n",
    "        WHEN trip_distance > 0 THEN ROUND(total_amount / trip_distance, 2)\n",
    "        ELSE 0 \n",
    "    END AS cost_per_mile,\n",
    "    CASE \n",
    "        WHEN (UNIX_TIMESTAMP(tpep_dropoff_datetime) - UNIX_TIMESTAMP(tpep_pickup_datetime)) / 60 > 0 \n",
    "            THEN ROUND(trip_distance / (((UNIX_TIMESTAMP(tpep_dropoff_datetime) - UNIX_TIMESTAMP(tpep_pickup_datetime)) / 60) / 60), 2)\n",
    "        ELSE 0 \n",
    "    END AS speed_mph,\n",
    "    CASE payment_type\n",
    "        WHEN 1 THEN 'Credit Card'\n",
    "        WHEN 2 THEN 'Cash'\n",
    "        WHEN 3 THEN 'No Charge'\n",
    "        WHEN 4 THEN 'Dispute'\n",
    "        WHEN 5 THEN 'Unknown'\n",
    "        WHEN 6 THEN 'Voided Trip'\n",
    "        ELSE 'Other'\n",
    "    END AS payment_method\n",
    "FROM uber_data\n",
    "WHERE trip_distance > 0 \n",
    "    AND fare_amount > 0 \n",
    "    AND total_amount > 0\n",
    "    AND passenger_count BETWEEN 1 AND 8\n",
    "    AND pickup_latitude BETWEEN 40.4 AND 41.0\n",
    "    AND pickup_longitude BETWEEN -74.3 AND -73.7;\n",
    "\n",
    "SELECT 'Enhanced dataset created successfully!' AS status,\n",
    "       COUNT(*) AS clean_records\n",
    "FROM uber_rides_enhanced;"
   ]
  },
  {
   "cell_type": "code",
   "execution_count": 0,
   "metadata": {
    "application/vnd.databricks.v1+cell": {
     "cellMetadata": {
      "byteLimit": 2048000,
      "rowLimit": 10000
     },
     "inputWidgets": {},
     "nuid": "afc14465-5fe3-4b2c-b09d-c071bb69aaa7",
     "showTitle": false,
     "tableResultSettingsMap": {},
     "title": ""
    }
   },
   "outputs": [
    {
     "output_type": "display_data",
     "data": {
      "text/html": [
       "<style scoped>\n",
       "  .table-result-container {\n",
       "    max-height: 300px;\n",
       "    overflow: auto;\n",
       "  }\n",
       "  table, th, td {\n",
       "    border: 1px solid black;\n",
       "    border-collapse: collapse;\n",
       "  }\n",
       "  th, td {\n",
       "    padding: 5px;\n",
       "  }\n",
       "  th {\n",
       "    text-align: left;\n",
       "  }\n",
       "</style><div class='table-result-container'><table class='table-result'><thead style='background-color: white'><tr><th>VendorID</th><th>tpep_pickup_datetime</th><th>tpep_dropoff_datetime</th><th>passenger_count</th><th>trip_distance</th><th>pickup_longitude</th><th>pickup_latitude</th><th>RatecodeID</th><th>store_and_fwd_flag</th><th>dropoff_longitude</th><th>dropoff_latitude</th><th>payment_type</th><th>fare_amount</th><th>extra</th><th>mta_tax</th><th>tip_amount</th><th>tolls_amount</th><th>improvement_surcharge</th><th>total_amount</th><th>pickup_hour</th><th>pickup_day_of_week</th><th>pickup_day_name</th><th>pickup_month</th><th>pickup_year</th><th>time_of_day</th><th>is_weekend</th><th>is_rush_hour</th><th>trip_duration_minutes</th><th>tip_percentage</th><th>cost_per_mile</th><th>speed_mph</th><th>payment_method</th></tr></thead><tbody><tr><td>1</td><td>2016-03-01T00:00:00.000Z</td><td>2016-03-01T00:07:55.000Z</td><td>1</td><td>2.5</td><td>-73.97674560546875</td><td>40.765151977539055</td><td>1</td><td>N</td><td>-74.00426483154298</td><td>40.74612808227539</td><td>1</td><td>9.0</td><td>0.5</td><td>0.5</td><td>2.05</td><td>0.0</td><td>0.3</td><td>12.35</td><td>0</td><td>3</td><td>Tuesday</td><td>3</td><td>2016</td><td>Night</td><td>0</td><td>0</td><td>7.92</td><td>22.78</td><td>4.94</td><td>18.95</td><td>Credit Card</td></tr><tr><td>1</td><td>2016-03-01T00:00:00.000Z</td><td>2016-03-01T00:11:06.000Z</td><td>1</td><td>2.9</td><td>-73.98348236083984</td><td>40.767925262451165</td><td>1</td><td>N</td><td>-74.00594329833984</td><td>40.7331657409668</td><td>1</td><td>11.0</td><td>0.5</td><td>0.5</td><td>3.05</td><td>0.0</td><td>0.3</td><td>15.35</td><td>0</td><td>3</td><td>Tuesday</td><td>3</td><td>2016</td><td>Night</td><td>0</td><td>0</td><td>11.1</td><td>27.73</td><td>5.29</td><td>15.68</td><td>Credit Card</td></tr><tr><td>2</td><td>2016-03-01T00:00:00.000Z</td><td>2016-03-01T00:31:06.000Z</td><td>2</td><td>19.98</td><td>-73.78202056884764</td><td>40.64480972290039</td><td>1</td><td>N</td><td>-73.97454071044923</td><td>40.6757698059082</td><td>1</td><td>54.5</td><td>0.5</td><td>0.5</td><td>8.0</td><td>0.0</td><td>0.3</td><td>63.8</td><td>0</td><td>3</td><td>Tuesday</td><td>3</td><td>2016</td><td>Night</td><td>0</td><td>0</td><td>31.1</td><td>14.68</td><td>3.19</td><td>38.55</td><td>Credit Card</td></tr><tr><td>2</td><td>2016-03-01T00:00:00.000Z</td><td>2016-03-01T00:00:00.000Z</td><td>3</td><td>10.78</td><td>-73.86341857910156</td><td>40.769813537597656</td><td>1</td><td>N</td><td>-73.96965026855469</td><td>40.757766723632805</td><td>1</td><td>31.5</td><td>0.0</td><td>0.5</td><td>3.78</td><td>5.54</td><td>0.3</td><td>41.62</td><td>0</td><td>3</td><td>Tuesday</td><td>3</td><td>2016</td><td>Night</td><td>0</td><td>0</td><td>0.0</td><td>12.0</td><td>3.86</td><td>0.0</td><td>Credit Card</td></tr><tr><td>2</td><td>2016-03-01T00:00:00.000Z</td><td>2016-03-01T00:00:00.000Z</td><td>5</td><td>30.43</td><td>-73.97174072265625</td><td>40.79218292236328</td><td>3</td><td>N</td><td>-74.17716979980467</td><td>40.69505310058594</td><td>1</td><td>98.0</td><td>0.0</td><td>0.0</td><td>0.0</td><td>15.5</td><td>0.3</td><td>113.8</td><td>0</td><td>3</td><td>Tuesday</td><td>3</td><td>2016</td><td>Night</td><td>0</td><td>0</td><td>0.0</td><td>0.0</td><td>3.74</td><td>0.0</td><td>Credit Card</td></tr><tr><td>2</td><td>2016-03-01T00:00:00.000Z</td><td>2016-03-01T00:00:00.000Z</td><td>5</td><td>5.92</td><td>-74.01719665527344</td><td>40.70538330078125</td><td>1</td><td>N</td><td>-73.97807312011719</td><td>40.75578689575195</td><td>1</td><td>23.5</td><td>1.0</td><td>0.5</td><td>5.06</td><td>0.0</td><td>0.3</td><td>30.36</td><td>0</td><td>3</td><td>Tuesday</td><td>3</td><td>2016</td><td>Night</td><td>0</td><td>0</td><td>0.0</td><td>21.53</td><td>5.13</td><td>0.0</td><td>Credit Card</td></tr><tr><td>2</td><td>2016-03-01T00:00:00.000Z</td><td>2016-03-01T00:00:00.000Z</td><td>6</td><td>5.72</td><td>-73.99458312988281</td><td>40.72784805297852</td><td>1</td><td>N</td><td>0.0</td><td>0.0</td><td>2</td><td>23.0</td><td>0.5</td><td>0.5</td><td>0.0</td><td>0.0</td><td>0.3</td><td>24.3</td><td>0</td><td>3</td><td>Tuesday</td><td>3</td><td>2016</td><td>Night</td><td>0</td><td>0</td><td>0.0</td><td>0.0</td><td>4.25</td><td>0.0</td><td>Cash</td></tr><tr><td>1</td><td>2016-03-01T00:00:01.000Z</td><td>2016-03-01T00:16:04.000Z</td><td>1</td><td>6.2</td><td>-73.78877258300781</td><td>40.64775848388672</td><td>1</td><td>N</td><td>-73.82920837402342</td><td>40.712345123291016</td><td>3</td><td>20.5</td><td>0.5</td><td>0.5</td><td>0.0</td><td>0.0</td><td>0.3</td><td>21.8</td><td>0</td><td>3</td><td>Tuesday</td><td>3</td><td>2016</td><td>Night</td><td>0</td><td>0</td><td>16.05</td><td>0.0</td><td>3.52</td><td>23.18</td><td>No Charge</td></tr><tr><td>1</td><td>2016-03-01T00:00:01.000Z</td><td>2016-03-01T00:05:00.000Z</td><td>1</td><td>0.7</td><td>-73.95822143554686</td><td>40.76464080810546</td><td>1</td><td>N</td><td>-73.9678955078125</td><td>40.76290130615234</td><td>1</td><td>5.5</td><td>0.5</td><td>0.5</td><td>2.0</td><td>0.0</td><td>0.3</td><td>8.8</td><td>0</td><td>3</td><td>Tuesday</td><td>3</td><td>2016</td><td>Night</td><td>0</td><td>0</td><td>4.98</td><td>36.36</td><td>12.57</td><td>8.43</td><td>Credit Card</td></tr><tr><td>2</td><td>2016-03-01T00:00:01.000Z</td><td>2016-03-01T00:24:06.000Z</td><td>3</td><td>7.18</td><td>-73.98577880859375</td><td>40.74119186401367</td><td>1</td><td>N</td><td>-73.94635009765625</td><td>40.79787826538086</td><td>1</td><td>23.5</td><td>0.5</td><td>0.5</td><td>3.2</td><td>0.0</td><td>0.3</td><td>28.0</td><td>0</td><td>3</td><td>Tuesday</td><td>3</td><td>2016</td><td>Night</td><td>0</td><td>0</td><td>24.08</td><td>13.62</td><td>3.9</td><td>17.89</td><td>Credit Card</td></tr></tbody></table></div>"
      ]
     },
     "metadata": {
      "application/vnd.databricks.v1+output": {
       "addedWidgets": {},
       "aggData": [],
       "aggError": "",
       "aggOverflow": false,
       "aggSchema": [],
       "aggSeriesLimitReached": false,
       "aggType": "",
       "arguments": {},
       "columnCustomDisplayInfos": {},
       "data": [
        [
         1,
         "2016-03-01T00:00:00.000Z",
         "2016-03-01T00:07:55.000Z",
         1,
         2.5,
         -73.97674560546875,
         40.765151977539055,
         1,
         "N",
         -74.00426483154298,
         40.74612808227539,
         1,
         9.0,
         0.5,
         0.5,
         2.05,
         0.0,
         0.3,
         12.35,
         0,
         3,
         "Tuesday",
         3,
         2016,
         "Night",
         0,
         0,
         7.92,
         22.78,
         4.94,
         18.95,
         "Credit Card"
        ],
        [
         1,
         "2016-03-01T00:00:00.000Z",
         "2016-03-01T00:11:06.000Z",
         1,
         2.9,
         -73.98348236083984,
         40.767925262451165,
         1,
         "N",
         -74.00594329833984,
         40.7331657409668,
         1,
         11.0,
         0.5,
         0.5,
         3.05,
         0.0,
         0.3,
         15.35,
         0,
         3,
         "Tuesday",
         3,
         2016,
         "Night",
         0,
         0,
         11.1,
         27.73,
         5.29,
         15.68,
         "Credit Card"
        ],
        [
         2,
         "2016-03-01T00:00:00.000Z",
         "2016-03-01T00:31:06.000Z",
         2,
         19.98,
         -73.78202056884764,
         40.64480972290039,
         1,
         "N",
         -73.97454071044923,
         40.6757698059082,
         1,
         54.5,
         0.5,
         0.5,
         8.0,
         0.0,
         0.3,
         63.8,
         0,
         3,
         "Tuesday",
         3,
         2016,
         "Night",
         0,
         0,
         31.1,
         14.68,
         3.19,
         38.55,
         "Credit Card"
        ],
        [
         2,
         "2016-03-01T00:00:00.000Z",
         "2016-03-01T00:00:00.000Z",
         3,
         10.78,
         -73.86341857910156,
         40.769813537597656,
         1,
         "N",
         -73.96965026855469,
         40.757766723632805,
         1,
         31.5,
         0.0,
         0.5,
         3.78,
         5.54,
         0.3,
         41.62,
         0,
         3,
         "Tuesday",
         3,
         2016,
         "Night",
         0,
         0,
         0.0,
         12.0,
         3.86,
         0.0,
         "Credit Card"
        ],
        [
         2,
         "2016-03-01T00:00:00.000Z",
         "2016-03-01T00:00:00.000Z",
         5,
         30.43,
         -73.97174072265625,
         40.79218292236328,
         3,
         "N",
         -74.17716979980467,
         40.69505310058594,
         1,
         98.0,
         0.0,
         0.0,
         0.0,
         15.5,
         0.3,
         113.8,
         0,
         3,
         "Tuesday",
         3,
         2016,
         "Night",
         0,
         0,
         0.0,
         0.0,
         3.74,
         0.0,
         "Credit Card"
        ],
        [
         2,
         "2016-03-01T00:00:00.000Z",
         "2016-03-01T00:00:00.000Z",
         5,
         5.92,
         -74.01719665527344,
         40.70538330078125,
         1,
         "N",
         -73.97807312011719,
         40.75578689575195,
         1,
         23.5,
         1.0,
         0.5,
         5.06,
         0.0,
         0.3,
         30.36,
         0,
         3,
         "Tuesday",
         3,
         2016,
         "Night",
         0,
         0,
         0.0,
         21.53,
         5.13,
         0.0,
         "Credit Card"
        ],
        [
         2,
         "2016-03-01T00:00:00.000Z",
         "2016-03-01T00:00:00.000Z",
         6,
         5.72,
         -73.99458312988281,
         40.72784805297852,
         1,
         "N",
         0.0,
         0.0,
         2,
         23.0,
         0.5,
         0.5,
         0.0,
         0.0,
         0.3,
         24.3,
         0,
         3,
         "Tuesday",
         3,
         2016,
         "Night",
         0,
         0,
         0.0,
         0.0,
         4.25,
         0.0,
         "Cash"
        ],
        [
         1,
         "2016-03-01T00:00:01.000Z",
         "2016-03-01T00:16:04.000Z",
         1,
         6.2,
         -73.78877258300781,
         40.64775848388672,
         1,
         "N",
         -73.82920837402342,
         40.712345123291016,
         3,
         20.5,
         0.5,
         0.5,
         0.0,
         0.0,
         0.3,
         21.8,
         0,
         3,
         "Tuesday",
         3,
         2016,
         "Night",
         0,
         0,
         16.05,
         0.0,
         3.52,
         23.18,
         "No Charge"
        ],
        [
         1,
         "2016-03-01T00:00:01.000Z",
         "2016-03-01T00:05:00.000Z",
         1,
         0.7,
         -73.95822143554686,
         40.76464080810546,
         1,
         "N",
         -73.9678955078125,
         40.76290130615234,
         1,
         5.5,
         0.5,
         0.5,
         2.0,
         0.0,
         0.3,
         8.8,
         0,
         3,
         "Tuesday",
         3,
         2016,
         "Night",
         0,
         0,
         4.98,
         36.36,
         12.57,
         8.43,
         "Credit Card"
        ],
        [
         2,
         "2016-03-01T00:00:01.000Z",
         "2016-03-01T00:24:06.000Z",
         3,
         7.18,
         -73.98577880859375,
         40.74119186401367,
         1,
         "N",
         -73.94635009765625,
         40.79787826538086,
         1,
         23.5,
         0.5,
         0.5,
         3.2,
         0.0,
         0.3,
         28.0,
         0,
         3,
         "Tuesday",
         3,
         2016,
         "Night",
         0,
         0,
         24.08,
         13.62,
         3.9,
         17.89,
         "Credit Card"
        ]
       ],
       "datasetInfos": [
        {
         "name": "_sqldf",
         "schema": {
          "fields": [
           {
            "metadata": {},
            "name": "VendorID",
            "nullable": true,
            "type": "long"
           },
           {
            "metadata": {},
            "name": "tpep_pickup_datetime",
            "nullable": true,
            "type": "timestamp"
           },
           {
            "metadata": {},
            "name": "tpep_dropoff_datetime",
            "nullable": true,
            "type": "timestamp"
           },
           {
            "metadata": {},
            "name": "passenger_count",
            "nullable": true,
            "type": "long"
           },
           {
            "metadata": {},
            "name": "trip_distance",
            "nullable": true,
            "type": "double"
           },
           {
            "metadata": {},
            "name": "pickup_longitude",
            "nullable": true,
            "type": "double"
           },
           {
            "metadata": {},
            "name": "pickup_latitude",
            "nullable": true,
            "type": "double"
           },
           {
            "metadata": {},
            "name": "RatecodeID",
            "nullable": true,
            "type": "long"
           },
           {
            "metadata": {},
            "name": "store_and_fwd_flag",
            "nullable": true,
            "type": "string"
           },
           {
            "metadata": {},
            "name": "dropoff_longitude",
            "nullable": true,
            "type": "double"
           },
           {
            "metadata": {},
            "name": "dropoff_latitude",
            "nullable": true,
            "type": "double"
           },
           {
            "metadata": {},
            "name": "payment_type",
            "nullable": true,
            "type": "long"
           },
           {
            "metadata": {},
            "name": "fare_amount",
            "nullable": true,
            "type": "double"
           },
           {
            "metadata": {},
            "name": "extra",
            "nullable": true,
            "type": "double"
           },
           {
            "metadata": {},
            "name": "mta_tax",
            "nullable": true,
            "type": "double"
           },
           {
            "metadata": {},
            "name": "tip_amount",
            "nullable": true,
            "type": "double"
           },
           {
            "metadata": {},
            "name": "tolls_amount",
            "nullable": true,
            "type": "double"
           },
           {
            "metadata": {},
            "name": "improvement_surcharge",
            "nullable": true,
            "type": "double"
           },
           {
            "metadata": {},
            "name": "total_amount",
            "nullable": true,
            "type": "double"
           },
           {
            "metadata": {},
            "name": "pickup_hour",
            "nullable": true,
            "type": "integer"
           },
           {
            "metadata": {},
            "name": "pickup_day_of_week",
            "nullable": true,
            "type": "integer"
           },
           {
            "metadata": {},
            "name": "pickup_day_name",
            "nullable": true,
            "type": "string"
           },
           {
            "metadata": {},
            "name": "pickup_month",
            "nullable": true,
            "type": "integer"
           },
           {
            "metadata": {},
            "name": "pickup_year",
            "nullable": true,
            "type": "integer"
           },
           {
            "metadata": {},
            "name": "time_of_day",
            "nullable": true,
            "type": "string"
           },
           {
            "metadata": {},
            "name": "is_weekend",
            "nullable": true,
            "type": "integer"
           },
           {
            "metadata": {},
            "name": "is_rush_hour",
            "nullable": true,
            "type": "integer"
           },
           {
            "metadata": {},
            "name": "trip_duration_minutes",
            "nullable": true,
            "type": "double"
           },
           {
            "metadata": {},
            "name": "tip_percentage",
            "nullable": true,
            "type": "double"
           },
           {
            "metadata": {},
            "name": "cost_per_mile",
            "nullable": true,
            "type": "double"
           },
           {
            "metadata": {},
            "name": "speed_mph",
            "nullable": true,
            "type": "double"
           },
           {
            "metadata": {},
            "name": "payment_method",
            "nullable": true,
            "type": "string"
           }
          ],
          "type": "struct"
         },
         "tableIdentifier": null,
         "typeStr": "pyspark.sql.connect.dataframe.DataFrame"
        }
       ],
       "dbfsResultPath": null,
       "isJsonSchema": true,
       "metadata": {
        "createTempViewForImplicitDf": true,
        "dataframeName": "_sqldf",
        "executionCount": 4
       },
       "overflow": false,
       "plotOptions": {
        "customPlotOptions": {},
        "displayType": "table",
        "pivotAggregation": null,
        "pivotColumns": null,
        "xColumns": null,
        "yColumns": null
       },
       "removedWidgets": [],
       "schema": [
        {
         "metadata": "{}",
         "name": "VendorID",
         "type": "\"long\""
        },
        {
         "metadata": "{}",
         "name": "tpep_pickup_datetime",
         "type": "\"timestamp\""
        },
        {
         "metadata": "{}",
         "name": "tpep_dropoff_datetime",
         "type": "\"timestamp\""
        },
        {
         "metadata": "{}",
         "name": "passenger_count",
         "type": "\"long\""
        },
        {
         "metadata": "{}",
         "name": "trip_distance",
         "type": "\"double\""
        },
        {
         "metadata": "{}",
         "name": "pickup_longitude",
         "type": "\"double\""
        },
        {
         "metadata": "{}",
         "name": "pickup_latitude",
         "type": "\"double\""
        },
        {
         "metadata": "{}",
         "name": "RatecodeID",
         "type": "\"long\""
        },
        {
         "metadata": "{}",
         "name": "store_and_fwd_flag",
         "type": "\"string\""
        },
        {
         "metadata": "{}",
         "name": "dropoff_longitude",
         "type": "\"double\""
        },
        {
         "metadata": "{}",
         "name": "dropoff_latitude",
         "type": "\"double\""
        },
        {
         "metadata": "{}",
         "name": "payment_type",
         "type": "\"long\""
        },
        {
         "metadata": "{}",
         "name": "fare_amount",
         "type": "\"double\""
        },
        {
         "metadata": "{}",
         "name": "extra",
         "type": "\"double\""
        },
        {
         "metadata": "{}",
         "name": "mta_tax",
         "type": "\"double\""
        },
        {
         "metadata": "{}",
         "name": "tip_amount",
         "type": "\"double\""
        },
        {
         "metadata": "{}",
         "name": "tolls_amount",
         "type": "\"double\""
        },
        {
         "metadata": "{}",
         "name": "improvement_surcharge",
         "type": "\"double\""
        },
        {
         "metadata": "{}",
         "name": "total_amount",
         "type": "\"double\""
        },
        {
         "metadata": "{}",
         "name": "pickup_hour",
         "type": "\"integer\""
        },
        {
         "metadata": "{}",
         "name": "pickup_day_of_week",
         "type": "\"integer\""
        },
        {
         "metadata": "{}",
         "name": "pickup_day_name",
         "type": "\"string\""
        },
        {
         "metadata": "{}",
         "name": "pickup_month",
         "type": "\"integer\""
        },
        {
         "metadata": "{}",
         "name": "pickup_year",
         "type": "\"integer\""
        },
        {
         "metadata": "{}",
         "name": "time_of_day",
         "type": "\"string\""
        },
        {
         "metadata": "{}",
         "name": "is_weekend",
         "type": "\"integer\""
        },
        {
         "metadata": "{}",
         "name": "is_rush_hour",
         "type": "\"integer\""
        },
        {
         "metadata": "{}",
         "name": "trip_duration_minutes",
         "type": "\"double\""
        },
        {
         "metadata": "{}",
         "name": "tip_percentage",
         "type": "\"double\""
        },
        {
         "metadata": "{}",
         "name": "cost_per_mile",
         "type": "\"double\""
        },
        {
         "metadata": "{}",
         "name": "speed_mph",
         "type": "\"double\""
        },
        {
         "metadata": "{}",
         "name": "payment_method",
         "type": "\"string\""
        }
       ],
       "type": "table"
      }
     },
     "output_type": "display_data"
    }
   ],
   "source": [
    "SELECT * \n",
    "FROM uber_rides_enhanced\n",
    "LIMIT 10;"
   ]
  },
  {
   "cell_type": "markdown",
   "metadata": {
    "application/vnd.databricks.v1+cell": {
     "cellMetadata": {},
     "inputWidgets": {},
     "nuid": "1c6cbf15-4dd7-473c-a83a-c72c85be9c38",
     "showTitle": false,
     "tableResultSettingsMap": {},
     "title": ""
    }
   },
   "source": [
    "## 2. Executive KPI Dashboard Queries"
   ]
  },
  {
   "cell_type": "markdown",
   "metadata": {
    "application/vnd.databricks.v1+cell": {
     "cellMetadata": {},
     "inputWidgets": {},
     "nuid": "0e19cab8-815f-4234-9af2-12408b2f9cf4",
     "showTitle": false,
     "tableResultSettingsMap": {},
     "title": ""
    }
   },
   "source": [
    "### A. Core Business Metrics"
   ]
  },
  {
   "cell_type": "code",
   "execution_count": 0,
   "metadata": {
    "application/vnd.databricks.v1+cell": {
     "cellMetadata": {
      "byteLimit": 2048000,
      "rowLimit": 10000
     },
     "inputWidgets": {},
     "nuid": "8e9de7e2-4d6a-45b6-9f83-d9ebf46f5455",
     "showTitle": false,
     "tableResultSettingsMap": {},
     "title": ""
    }
   },
   "outputs": [
    {
     "output_type": "display_data",
     "data": {
      "text/html": [
       "<style scoped>\n",
       "  .table-result-container {\n",
       "    max-height: 300px;\n",
       "    overflow: auto;\n",
       "  }\n",
       "  table, th, td {\n",
       "    border: 1px solid black;\n",
       "    border-collapse: collapse;\n",
       "  }\n",
       "  th, td {\n",
       "    padding: 5px;\n",
       "  }\n",
       "  th {\n",
       "    text-align: left;\n",
       "  }\n",
       "</style><div class='table-result-container'><table class='table-result'><thead style='background-color: white'><tr><th>dashboard_title</th><th>total_trips</th><th>total_revenue_dollars</th><th>avg_fare_dollars</th><th>avg_tip_percentage</th><th>avg_trip_miles</th><th>avg_duration_minutes</th><th>days_analyzed</th><th>daily_avg_revenue</th></tr></thead><tbody><tr><td>EXECUTIVE DASHBOARD</td><td>98574</td><td>1611566.0</td><td>13.21</td><td>14.0</td><td>3.1</td><td>17.0</td><td>2</td><td>805783.0</td></tr></tbody></table></div>"
      ]
     },
     "metadata": {
      "application/vnd.databricks.v1+output": {
       "addedWidgets": {},
       "aggData": [],
       "aggError": "",
       "aggOverflow": false,
       "aggSchema": [],
       "aggSeriesLimitReached": false,
       "aggType": "",
       "arguments": {},
       "columnCustomDisplayInfos": {},
       "data": [
        [
         "EXECUTIVE DASHBOARD",
         98574,
         1611566.0,
         13.21,
         14.0,
         3.1,
         17.0,
         2,
         805783.0
        ]
       ],
       "datasetInfos": [
        {
         "name": "_sqldf",
         "schema": {
          "fields": [
           {
            "metadata": {},
            "name": "dashboard_title",
            "nullable": false,
            "type": "string"
           },
           {
            "metadata": {},
            "name": "total_trips",
            "nullable": false,
            "type": "long"
           },
           {
            "metadata": {},
            "name": "total_revenue_dollars",
            "nullable": true,
            "type": "double"
           },
           {
            "metadata": {},
            "name": "avg_fare_dollars",
            "nullable": true,
            "type": "double"
           },
           {
            "metadata": {},
            "name": "avg_tip_percentage",
            "nullable": true,
            "type": "double"
           },
           {
            "metadata": {},
            "name": "avg_trip_miles",
            "nullable": true,
            "type": "double"
           },
           {
            "metadata": {},
            "name": "avg_duration_minutes",
            "nullable": true,
            "type": "double"
           },
           {
            "metadata": {},
            "name": "days_analyzed",
            "nullable": false,
            "type": "long"
           },
           {
            "metadata": {},
            "name": "daily_avg_revenue",
            "nullable": true,
            "type": "double"
           }
          ],
          "type": "struct"
         },
         "tableIdentifier": null,
         "typeStr": "pyspark.sql.connect.dataframe.DataFrame"
        }
       ],
       "dbfsResultPath": null,
       "isJsonSchema": true,
       "metadata": {
        "createTempViewForImplicitDf": true,
        "dataframeName": "_sqldf",
        "executionCount": 6
       },
       "overflow": false,
       "plotOptions": {
        "customPlotOptions": {},
        "displayType": "table",
        "pivotAggregation": null,
        "pivotColumns": null,
        "xColumns": null,
        "yColumns": null
       },
       "removedWidgets": [],
       "schema": [
        {
         "metadata": "{}",
         "name": "dashboard_title",
         "type": "\"string\""
        },
        {
         "metadata": "{}",
         "name": "total_trips",
         "type": "\"long\""
        },
        {
         "metadata": "{}",
         "name": "total_revenue_dollars",
         "type": "\"double\""
        },
        {
         "metadata": "{}",
         "name": "avg_fare_dollars",
         "type": "\"double\""
        },
        {
         "metadata": "{}",
         "name": "avg_tip_percentage",
         "type": "\"double\""
        },
        {
         "metadata": "{}",
         "name": "avg_trip_miles",
         "type": "\"double\""
        },
        {
         "metadata": "{}",
         "name": "avg_duration_minutes",
         "type": "\"double\""
        },
        {
         "metadata": "{}",
         "name": "days_analyzed",
         "type": "\"long\""
        },
        {
         "metadata": "{}",
         "name": "daily_avg_revenue",
         "type": "\"double\""
        }
       ],
       "type": "table"
      }
     },
     "output_type": "display_data"
    }
   ],
   "source": [
    "\n",
    "SELECT \n",
    "    'EXECUTIVE DASHBOARD' as dashboard_title,\n",
    "    COUNT(*) as total_trips,\n",
    "    ROUND(SUM(total_amount), 0) as total_revenue_dollars,\n",
    "    ROUND(AVG(fare_amount), 2) as avg_fare_dollars,\n",
    "    ROUND(AVG(tip_percentage), 1) as avg_tip_percentage,\n",
    "    ROUND(AVG(trip_distance), 1) as avg_trip_miles,\n",
    "    ROUND(AVG(trip_duration_minutes), 1) as avg_duration_minutes,\n",
    "    COUNT(DISTINCT pickup_day_name) as days_analyzed,\n",
    "    ROUND(SUM(total_amount) / COUNT(DISTINCT DATE(tpep_pickup_datetime)), 0) as daily_avg_revenue\n",
    "FROM uber_rides_enhanced;"
   ]
  },
  {
   "cell_type": "markdown",
   "metadata": {
    "application/vnd.databricks.v1+cell": {
     "cellMetadata": {},
     "inputWidgets": {},
     "nuid": "b3f3d7c0-f287-4fa4-b8d7-dcad2ff1c655",
     "showTitle": false,
     "tableResultSettingsMap": {},
     "title": ""
    }
   },
   "source": [
    "### B. Peak Performance Analysis"
   ]
  },
  {
   "cell_type": "code",
   "execution_count": 0,
   "metadata": {
    "application/vnd.databricks.v1+cell": {
     "cellMetadata": {
      "byteLimit": 2048000,
      "rowLimit": 10000
     },
     "inputWidgets": {},
     "nuid": "04087849-0d6f-414d-bb10-c0e619bccf71",
     "showTitle": false,
     "tableResultSettingsMap": {},
     "title": ""
    }
   },
   "outputs": [
    {
     "output_type": "display_data",
     "data": {
      "text/html": [
       "<style scoped>\n",
       "  .table-result-container {\n",
       "    max-height: 300px;\n",
       "    overflow: auto;\n",
       "  }\n",
       "  table, th, td {\n",
       "    border: 1px solid black;\n",
       "    border-collapse: collapse;\n",
       "  }\n",
       "  th, td {\n",
       "    padding: 5px;\n",
       "  }\n",
       "  th {\n",
       "    text-align: left;\n",
       "  }\n",
       "</style><div class='table-result-container'><table class='table-result'><thead style='background-color: white'><tr><th>pickup_hour</th><th>time_category</th><th>trips</th><th>revenue</th><th>avg_fare</th><th>avg_tip_pct</th><th>avg_speed</th><th>revenue_rank</th><th>volume_rank</th></tr></thead><tbody><tr><td>0</td><td>Regular Hours</td><td>6871</td><td>118748.0</td><td>13.87</td><td>14.1</td><td>17.6</td><td>8</td><td>8</td></tr><tr><td>1</td><td>Regular Hours</td><td>4051</td><td>68134.0</td><td>13.64</td><td>13.2</td><td>18.1</td><td>10</td><td>10</td></tr><tr><td>2</td><td>Regular Hours</td><td>2542</td><td>39913.0</td><td>12.82</td><td>12.5</td><td>18.0</td><td>12</td><td>12</td></tr><tr><td>3</td><td>Regular Hours</td><td>1820</td><td>31034.0</td><td>14.06</td><td>11.0</td><td>18.7</td><td>15</td><td>15</td></tr><tr><td>4</td><td>Regular Hours</td><td>1867</td><td>36926.0</td><td>16.04</td><td>11.0</td><td>21.3</td><td>13</td><td>13</td></tr><tr><td>5</td><td>Regular Hours</td><td>3594</td><td>66002.0</td><td>14.38</td><td>13.8</td><td>19.8</td><td>11</td><td>11</td></tr><tr><td>6</td><td>Regular Hours</td><td>1860</td><td>31631.0</td><td>13.56</td><td>13.4</td><td>17.6</td><td>14</td><td>14</td></tr><tr><td>7</td><td>Morning Rush</td><td>9415</td><td>140174.0</td><td>11.98</td><td>14.9</td><td>11.7</td><td>7</td><td>7</td></tr><tr><td>8</td><td>Morning Rush</td><td>11543</td><td>174069.0</td><td>12.16</td><td>15.2</td><td>9.9</td><td>1</td><td>1</td></tr><tr><td>9</td><td>Morning Rush</td><td>10566</td><td>164861.0</td><td>12.57</td><td>15.0</td><td>9.6</td><td>4</td><td>2</td></tr><tr><td>10</td><td>Regular Hours</td><td>9483</td><td>152137.0</td><td>12.95</td><td>14.3</td><td>9.7</td><td>6</td><td>5</td></tr><tr><td>11</td><td>Regular Hours</td><td>9463</td><td>152885.0</td><td>13.16</td><td>13.6</td><td>9.4</td><td>5</td><td>6</td></tr><tr><td>12</td><td>Regular Hours</td><td>10372</td><td>169248.0</td><td>13.26</td><td>13.7</td><td>9.3</td><td>3</td><td>3</td></tr><tr><td>13</td><td>Regular Hours</td><td>10061</td><td>172674.0</td><td>13.94</td><td>13.5</td><td>10.0</td><td>2</td><td>4</td></tr><tr><td>14</td><td>Regular Hours</td><td>4783</td><td>88108.0</td><td>14.94</td><td>13.5</td><td>9.8</td><td>9</td><td>9</td></tr></tbody></table></div>"
      ]
     },
     "metadata": {
      "application/vnd.databricks.v1+output": {
       "addedWidgets": {},
       "aggData": [],
       "aggError": "",
       "aggOverflow": false,
       "aggSchema": [],
       "aggSeriesLimitReached": false,
       "aggType": "",
       "arguments": {},
       "columnCustomDisplayInfos": {},
       "data": [
        [
         0,
         "Regular Hours",
         6871,
         118748.0,
         13.87,
         14.1,
         17.6,
         8,
         8
        ],
        [
         1,
         "Regular Hours",
         4051,
         68134.0,
         13.64,
         13.2,
         18.1,
         10,
         10
        ],
        [
         2,
         "Regular Hours",
         2542,
         39913.0,
         12.82,
         12.5,
         18.0,
         12,
         12
        ],
        [
         3,
         "Regular Hours",
         1820,
         31034.0,
         14.06,
         11.0,
         18.7,
         15,
         15
        ],
        [
         4,
         "Regular Hours",
         1867,
         36926.0,
         16.04,
         11.0,
         21.3,
         13,
         13
        ],
        [
         5,
         "Regular Hours",
         3594,
         66002.0,
         14.38,
         13.8,
         19.8,
         11,
         11
        ],
        [
         6,
         "Regular Hours",
         1860,
         31631.0,
         13.56,
         13.4,
         17.6,
         14,
         14
        ],
        [
         7,
         "Morning Rush",
         9415,
         140174.0,
         11.98,
         14.9,
         11.7,
         7,
         7
        ],
        [
         8,
         "Morning Rush",
         11543,
         174069.0,
         12.16,
         15.2,
         9.9,
         1,
         1
        ],
        [
         9,
         "Morning Rush",
         10566,
         164861.0,
         12.57,
         15.0,
         9.6,
         4,
         2
        ],
        [
         10,
         "Regular Hours",
         9483,
         152137.0,
         12.95,
         14.3,
         9.7,
         6,
         5
        ],
        [
         11,
         "Regular Hours",
         9463,
         152885.0,
         13.16,
         13.6,
         9.4,
         5,
         6
        ],
        [
         12,
         "Regular Hours",
         10372,
         169248.0,
         13.26,
         13.7,
         9.3,
         3,
         3
        ],
        [
         13,
         "Regular Hours",
         10061,
         172674.0,
         13.94,
         13.5,
         10.0,
         2,
         4
        ],
        [
         14,
         "Regular Hours",
         4783,
         88108.0,
         14.94,
         13.5,
         9.8,
         9,
         9
        ]
       ],
       "datasetInfos": [
        {
         "name": "_sqldf",
         "schema": {
          "fields": [
           {
            "metadata": {},
            "name": "pickup_hour",
            "nullable": true,
            "type": "integer"
           },
           {
            "metadata": {},
            "name": "time_category",
            "nullable": false,
            "type": "string"
           },
           {
            "metadata": {},
            "name": "trips",
            "nullable": false,
            "type": "long"
           },
           {
            "metadata": {},
            "name": "revenue",
            "nullable": true,
            "type": "double"
           },
           {
            "metadata": {},
            "name": "avg_fare",
            "nullable": true,
            "type": "double"
           },
           {
            "metadata": {},
            "name": "avg_tip_pct",
            "nullable": true,
            "type": "double"
           },
           {
            "metadata": {},
            "name": "avg_speed",
            "nullable": true,
            "type": "double"
           },
           {
            "metadata": {},
            "name": "revenue_rank",
            "nullable": false,
            "type": "integer"
           },
           {
            "metadata": {},
            "name": "volume_rank",
            "nullable": false,
            "type": "integer"
           }
          ],
          "type": "struct"
         },
         "tableIdentifier": null,
         "typeStr": "pyspark.sql.connect.dataframe.DataFrame"
        }
       ],
       "dbfsResultPath": null,
       "isJsonSchema": true,
       "metadata": {
        "createTempViewForImplicitDf": true,
        "dataframeName": "_sqldf",
        "executionCount": 8
       },
       "overflow": false,
       "plotOptions": {
        "customPlotOptions": {},
        "displayType": "table",
        "pivotAggregation": null,
        "pivotColumns": null,
        "xColumns": null,
        "yColumns": null
       },
       "removedWidgets": [],
       "schema": [
        {
         "metadata": "{}",
         "name": "pickup_hour",
         "type": "\"integer\""
        },
        {
         "metadata": "{}",
         "name": "time_category",
         "type": "\"string\""
        },
        {
         "metadata": "{}",
         "name": "trips",
         "type": "\"long\""
        },
        {
         "metadata": "{}",
         "name": "revenue",
         "type": "\"double\""
        },
        {
         "metadata": "{}",
         "name": "avg_fare",
         "type": "\"double\""
        },
        {
         "metadata": "{}",
         "name": "avg_tip_pct",
         "type": "\"double\""
        },
        {
         "metadata": "{}",
         "name": "avg_speed",
         "type": "\"double\""
        },
        {
         "metadata": "{}",
         "name": "revenue_rank",
         "type": "\"integer\""
        },
        {
         "metadata": "{}",
         "name": "volume_rank",
         "type": "\"integer\""
        }
       ],
       "type": "table"
      }
     },
     "output_type": "display_data"
    }
   ],
   "source": [
    "WITH hourly_stats AS (\n",
    "    SELECT \n",
    "        pickup_hour,\n",
    "        COUNT(*) as trips,\n",
    "        ROUND(SUM(total_amount), 0) as revenue,\n",
    "        ROUND(AVG(fare_amount), 2) as avg_fare,\n",
    "        ROUND(AVG(tip_percentage), 1) as avg_tip_pct,\n",
    "        ROUND(AVG(speed_mph), 1) as avg_speed\n",
    "    FROM uber_rides_enhanced\n",
    "    WHERE speed_mph BETWEEN 1 AND 80  -- Remove outliers\n",
    "    GROUP BY pickup_hour\n",
    "),\n",
    "ranked_hours AS (\n",
    "    SELECT *,\n",
    "        RANK() OVER (ORDER BY revenue DESC) as revenue_rank,\n",
    "        RANK() OVER (ORDER BY trips DESC) as volume_rank\n",
    "    FROM hourly_stats\n",
    ")\n",
    "SELECT \n",
    "    pickup_hour,\n",
    "    CASE \n",
    "        WHEN pickup_hour BETWEEN 7 AND 9 THEN 'Morning Rush'\n",
    "        WHEN pickup_hour BETWEEN 17 AND 19 THEN 'Evening Rush'\n",
    "        WHEN pickup_hour BETWEEN 22 AND 5 THEN 'Late Night'\n",
    "        ELSE 'Regular Hours'\n",
    "    END as time_category,\n",
    "    trips,\n",
    "    revenue,\n",
    "    avg_fare,\n",
    "    avg_tip_pct,\n",
    "    avg_speed,\n",
    "    revenue_rank,\n",
    "    volume_rank\n",
    "FROM ranked_hours\n",
    "ORDER BY pickup_hour;"
   ]
  },
  {
   "cell_type": "markdown",
   "metadata": {
    "application/vnd.databricks.v1+cell": {
     "cellMetadata": {},
     "inputWidgets": {},
     "nuid": "bef39604-87a5-4f1b-975e-52e0974a89a7",
     "showTitle": false,
     "tableResultSettingsMap": {},
     "title": ""
    }
   },
   "source": [
    "### C. Geographic Revenue Hotspots"
   ]
  },
  {
   "cell_type": "code",
   "execution_count": 0,
   "metadata": {
    "application/vnd.databricks.v1+cell": {
     "cellMetadata": {
      "byteLimit": 2048000,
      "rowLimit": 10000
     },
     "inputWidgets": {},
     "nuid": "a2638239-c8c3-43af-937a-fe1b7ad9a5b5",
     "showTitle": false,
     "tableResultSettingsMap": {},
     "title": ""
    }
   },
   "outputs": [
    {
     "output_type": "display_data",
     "data": {
      "text/html": [
       "<style scoped>\n",
       "  .table-result-container {\n",
       "    max-height: 300px;\n",
       "    overflow: auto;\n",
       "  }\n",
       "  table, th, td {\n",
       "    border: 1px solid black;\n",
       "    border-collapse: collapse;\n",
       "  }\n",
       "  th, td {\n",
       "    padding: 5px;\n",
       "  }\n",
       "  th {\n",
       "    text-align: left;\n",
       "  }\n",
       "</style><div class='table-result-container'><table class='table-result'><thead style='background-color: white'><tr><th>analysis_type</th><th>lat</th><th>lng</th><th>trip_count</th><th>total_revenue</th><th>avg_fare</th><th>avg_tip_pct</th><th>avg_distance</th><th>revenue_rank</th></tr></thead><tbody><tr><td>TOP PICKUP ZONES</td><td>40.645</td><td>-73.782</td><td>523</td><td>28166.0</td><td>45.08</td><td>11.3</td><td>15.8</td><td>1</td></tr><tr><td>TOP PICKUP ZONES</td><td>40.774</td><td>-73.871</td><td>449</td><td>18741.0</td><td>32.47</td><td>13.4</td><td>9.7</td><td>2</td></tr><tr><td>TOP PICKUP ZONES</td><td>40.645</td><td>-73.777</td><td>363</td><td>18465.0</td><td>42.9</td><td>11.5</td><td>15.4</td><td>3</td></tr><tr><td>TOP PICKUP ZONES</td><td>40.774</td><td>-73.873</td><td>372</td><td>16411.0</td><td>33.62</td><td>15.8</td><td>9.8</td><td>4</td></tr><tr><td>TOP PICKUP ZONES</td><td>40.769</td><td>-73.863</td><td>325</td><td>15368.0</td><td>35.77</td><td>17.2</td><td>10.4</td><td>5</td></tr><tr><td>TOP PICKUP ZONES</td><td>40.77</td><td>-73.863</td><td>283</td><td>13901.0</td><td>36.88</td><td>18.8</td><td>10.8</td><td>6</td></tr><tr><td>TOP PICKUP ZONES</td><td>40.77</td><td>-73.864</td><td>283</td><td>13600.0</td><td>36.63</td><td>17.4</td><td>10.6</td><td>7</td></tr><tr><td>TOP PICKUP ZONES</td><td>40.751</td><td>-73.994</td><td>698</td><td>9987.0</td><td>11.9</td><td>12.8</td><td>2.1</td><td>8</td></tr><tr><td>TOP PICKUP ZONES</td><td>40.647</td><td>-73.79</td><td>172</td><td>9235.0</td><td>44.74</td><td>11.4</td><td>15.5</td><td>9</td></tr><tr><td>TOP PICKUP ZONES</td><td>40.75</td><td>-73.991</td><td>527</td><td>7238.0</td><td>11.18</td><td>14.2</td><td>2.1</td><td>10</td></tr><tr><td>TOP PICKUP ZONES</td><td>40.75</td><td>-73.992</td><td>517</td><td>7097.0</td><td>11.41</td><td>12.7</td><td>2.1</td><td>11</td></tr><tr><td>TOP PICKUP ZONES</td><td>40.774</td><td>-73.875</td><td>138</td><td>6408.0</td><td>35.22</td><td>17.5</td><td>10.4</td><td>12</td></tr><tr><td>TOP PICKUP ZONES</td><td>40.756</td><td>-73.991</td><td>459</td><td>5499.0</td><td>9.94</td><td>12.1</td><td>1.8</td><td>13</td></tr><tr><td>TOP PICKUP ZONES</td><td>40.646</td><td>-73.777</td><td>88</td><td>5408.0</td><td>49.53</td><td>14.7</td><td>17.8</td><td>14</td></tr><tr><td>TOP PICKUP ZONES</td><td>40.644</td><td>-73.79</td><td>103</td><td>5344.0</td><td>44.3</td><td>8.2</td><td>15.5</td><td>15</td></tr></tbody></table></div>"
      ]
     },
     "metadata": {
      "application/vnd.databricks.v1+output": {
       "addedWidgets": {},
       "aggData": [],
       "aggError": "",
       "aggOverflow": false,
       "aggSchema": [],
       "aggSeriesLimitReached": false,
       "aggType": "",
       "arguments": {},
       "columnCustomDisplayInfos": {},
       "data": [
        [
         "TOP PICKUP ZONES",
         40.645,
         -73.782,
         523,
         28166.0,
         45.08,
         11.3,
         15.8,
         1
        ],
        [
         "TOP PICKUP ZONES",
         40.774,
         -73.871,
         449,
         18741.0,
         32.47,
         13.4,
         9.7,
         2
        ],
        [
         "TOP PICKUP ZONES",
         40.645,
         -73.777,
         363,
         18465.0,
         42.9,
         11.5,
         15.4,
         3
        ],
        [
         "TOP PICKUP ZONES",
         40.774,
         -73.873,
         372,
         16411.0,
         33.62,
         15.8,
         9.8,
         4
        ],
        [
         "TOP PICKUP ZONES",
         40.769,
         -73.863,
         325,
         15368.0,
         35.77,
         17.2,
         10.4,
         5
        ],
        [
         "TOP PICKUP ZONES",
         40.77,
         -73.863,
         283,
         13901.0,
         36.88,
         18.8,
         10.8,
         6
        ],
        [
         "TOP PICKUP ZONES",
         40.77,
         -73.864,
         283,
         13600.0,
         36.63,
         17.4,
         10.6,
         7
        ],
        [
         "TOP PICKUP ZONES",
         40.751,
         -73.994,
         698,
         9987.0,
         11.9,
         12.8,
         2.1,
         8
        ],
        [
         "TOP PICKUP ZONES",
         40.647,
         -73.79,
         172,
         9235.0,
         44.74,
         11.4,
         15.5,
         9
        ],
        [
         "TOP PICKUP ZONES",
         40.75,
         -73.991,
         527,
         7238.0,
         11.18,
         14.2,
         2.1,
         10
        ],
        [
         "TOP PICKUP ZONES",
         40.75,
         -73.992,
         517,
         7097.0,
         11.41,
         12.7,
         2.1,
         11
        ],
        [
         "TOP PICKUP ZONES",
         40.774,
         -73.875,
         138,
         6408.0,
         35.22,
         17.5,
         10.4,
         12
        ],
        [
         "TOP PICKUP ZONES",
         40.756,
         -73.991,
         459,
         5499.0,
         9.94,
         12.1,
         1.8,
         13
        ],
        [
         "TOP PICKUP ZONES",
         40.646,
         -73.777,
         88,
         5408.0,
         49.53,
         14.7,
         17.8,
         14
        ],
        [
         "TOP PICKUP ZONES",
         40.644,
         -73.79,
         103,
         5344.0,
         44.3,
         8.2,
         15.5,
         15
        ]
       ],
       "datasetInfos": [
        {
         "name": "_sqldf",
         "schema": {
          "fields": [
           {
            "metadata": {},
            "name": "analysis_type",
            "nullable": false,
            "type": "string"
           },
           {
            "metadata": {},
            "name": "lat",
            "nullable": true,
            "type": "double"
           },
           {
            "metadata": {},
            "name": "lng",
            "nullable": true,
            "type": "double"
           },
           {
            "metadata": {},
            "name": "trip_count",
            "nullable": false,
            "type": "long"
           },
           {
            "metadata": {},
            "name": "total_revenue",
            "nullable": true,
            "type": "double"
           },
           {
            "metadata": {},
            "name": "avg_fare",
            "nullable": true,
            "type": "double"
           },
           {
            "metadata": {},
            "name": "avg_tip_pct",
            "nullable": true,
            "type": "double"
           },
           {
            "metadata": {},
            "name": "avg_distance",
            "nullable": true,
            "type": "double"
           },
           {
            "metadata": {},
            "name": "revenue_rank",
            "nullable": false,
            "type": "integer"
           }
          ],
          "type": "struct"
         },
         "tableIdentifier": null,
         "typeStr": "pyspark.sql.connect.dataframe.DataFrame"
        }
       ],
       "dbfsResultPath": null,
       "isJsonSchema": true,
       "metadata": {
        "createTempViewForImplicitDf": true,
        "dataframeName": "_sqldf",
        "executionCount": 9
       },
       "overflow": false,
       "plotOptions": {
        "customPlotOptions": {},
        "displayType": "table",
        "pivotAggregation": null,
        "pivotColumns": null,
        "xColumns": null,
        "yColumns": null
       },
       "removedWidgets": [],
       "schema": [
        {
         "metadata": "{}",
         "name": "analysis_type",
         "type": "\"string\""
        },
        {
         "metadata": "{}",
         "name": "lat",
         "type": "\"double\""
        },
        {
         "metadata": "{}",
         "name": "lng",
         "type": "\"double\""
        },
        {
         "metadata": "{}",
         "name": "trip_count",
         "type": "\"long\""
        },
        {
         "metadata": "{}",
         "name": "total_revenue",
         "type": "\"double\""
        },
        {
         "metadata": "{}",
         "name": "avg_fare",
         "type": "\"double\""
        },
        {
         "metadata": "{}",
         "name": "avg_tip_pct",
         "type": "\"double\""
        },
        {
         "metadata": "{}",
         "name": "avg_distance",
         "type": "\"double\""
        },
        {
         "metadata": "{}",
         "name": "revenue_rank",
         "type": "\"integer\""
        }
       ],
       "type": "table"
      }
     },
     "output_type": "display_data"
    }
   ],
   "source": [
    "WITH location_analysis AS (\n",
    "    SELECT \n",
    "        ROUND(pickup_latitude, 3) as lat,\n",
    "        ROUND(pickup_longitude, 3) as lng,\n",
    "        COUNT(*) as trip_count,\n",
    "        ROUND(SUM(total_amount), 0) as total_revenue,\n",
    "        ROUND(AVG(fare_amount), 2) as avg_fare,\n",
    "        ROUND(AVG(tip_percentage), 1) as avg_tip_pct,\n",
    "        ROUND(AVG(trip_distance), 1) as avg_distance\n",
    "    FROM uber_rides_enhanced\n",
    "    GROUP BY ROUND(pickup_latitude, 3), ROUND(pickup_longitude, 3)\n",
    "    HAVING COUNT(*) >= 20  -- Focus on significant locations\n",
    ")\n",
    "SELECT \n",
    "    'TOP PICKUP ZONES' as analysis_type,\n",
    "    lat,\n",
    "    lng,\n",
    "    trip_count,\n",
    "    total_revenue,\n",
    "    avg_fare,\n",
    "    avg_tip_pct,\n",
    "    avg_distance,\n",
    "    RANK() OVER (ORDER BY total_revenue DESC) as revenue_rank\n",
    "FROM location_analysis\n",
    "ORDER BY total_revenue DESC\n",
    "LIMIT 15;"
   ]
  },
  {
   "cell_type": "markdown",
   "metadata": {
    "application/vnd.databricks.v1+cell": {
     "cellMetadata": {},
     "inputWidgets": {},
     "nuid": "93e34600-7238-49b8-b9ec-8ddeed5af0aa",
     "showTitle": false,
     "tableResultSettingsMap": {},
     "title": ""
    }
   },
   "source": [
    "## 2. Customer Behavior Analysis"
   ]
  },
  {
   "cell_type": "markdown",
   "metadata": {
    "application/vnd.databricks.v1+cell": {
     "cellMetadata": {},
     "inputWidgets": {},
     "nuid": "a738f9a1-7920-4608-a0e1-263ceb66851b",
     "showTitle": false,
     "tableResultSettingsMap": {},
     "title": ""
    }
   },
   "source": [
    "### A. Payment & Tipping Insights\n"
   ]
  },
  {
   "cell_type": "code",
   "execution_count": 0,
   "metadata": {
    "application/vnd.databricks.v1+cell": {
     "cellMetadata": {
      "byteLimit": 2048000,
      "rowLimit": 10000
     },
     "inputWidgets": {},
     "nuid": "0873c564-6e19-4ef2-ba21-ae20ac6bf1b6",
     "showTitle": false,
     "tableResultSettingsMap": {},
     "title": ""
    }
   },
   "outputs": [
    {
     "output_type": "display_data",
     "data": {
      "text/html": [
       "<style scoped>\n",
       "  .table-result-container {\n",
       "    max-height: 300px;\n",
       "    overflow: auto;\n",
       "  }\n",
       "  table, th, td {\n",
       "    border: 1px solid black;\n",
       "    border-collapse: collapse;\n",
       "  }\n",
       "  th, td {\n",
       "    padding: 5px;\n",
       "  }\n",
       "  th {\n",
       "    text-align: left;\n",
       "  }\n",
       "</style><div class='table-result-container'><table class='table-result'><thead style='background-color: white'><tr><th>payment_method</th><th>trip_count</th><th>market_share_pct</th><th>avg_fare</th><th>avg_tip_dollars</th><th>avg_tip_pct</th><th>total_revenue</th><th>tipping_category</th></tr></thead><tbody><tr><td>Credit Card</td><td>65775</td><td>66.7</td><td>13.83</td><td>2.8</td><td>21.0</td><td>1181565.0</td><td>High Tippers</td></tr><tr><td>Cash</td><td>32655</td><td>33.1</td><td>11.96</td><td>0.0</td><td>0.0</td><td>427639.0</td><td>Low Tippers</td></tr><tr><td>No Charge</td><td>107</td><td>0.1</td><td>13.79</td><td>0.11</td><td>0.2</td><td>1626.0</td><td>Low Tippers</td></tr><tr><td>Dispute</td><td>37</td><td>0.0</td><td>18.08</td><td>0.0</td><td>0.0</td><td>737.0</td><td>Low Tippers</td></tr></tbody></table></div>"
      ]
     },
     "metadata": {
      "application/vnd.databricks.v1+output": {
       "addedWidgets": {},
       "aggData": [],
       "aggError": "",
       "aggOverflow": false,
       "aggSchema": [],
       "aggSeriesLimitReached": false,
       "aggType": "",
       "arguments": {},
       "columnCustomDisplayInfos": {},
       "data": [
        [
         "Credit Card",
         65775,
         "66.7",
         13.83,
         2.8,
         21.0,
         1181565.0,
         "High Tippers"
        ],
        [
         "Cash",
         32655,
         "33.1",
         11.96,
         0.0,
         0.0,
         427639.0,
         "Low Tippers"
        ],
        [
         "No Charge",
         107,
         "0.1",
         13.79,
         0.11,
         0.2,
         1626.0,
         "Low Tippers"
        ],
        [
         "Dispute",
         37,
         "0.0",
         18.08,
         0.0,
         0.0,
         737.0,
         "Low Tippers"
        ]
       ],
       "datasetInfos": [
        {
         "name": "_sqldf",
         "schema": {
          "fields": [
           {
            "metadata": {},
            "name": "payment_method",
            "nullable": true,
            "type": "string"
           },
           {
            "metadata": {},
            "name": "trip_count",
            "nullable": false,
            "type": "long"
           },
           {
            "metadata": {},
            "name": "market_share_pct",
            "nullable": true,
            "type": "decimal(26,1)"
           },
           {
            "metadata": {},
            "name": "avg_fare",
            "nullable": true,
            "type": "double"
           },
           {
            "metadata": {},
            "name": "avg_tip_dollars",
            "nullable": true,
            "type": "double"
           },
           {
            "metadata": {},
            "name": "avg_tip_pct",
            "nullable": true,
            "type": "double"
           },
           {
            "metadata": {},
            "name": "total_revenue",
            "nullable": true,
            "type": "double"
           },
           {
            "metadata": {},
            "name": "tipping_category",
            "nullable": false,
            "type": "string"
           }
          ],
          "type": "struct"
         },
         "tableIdentifier": null,
         "typeStr": "pyspark.sql.connect.dataframe.DataFrame"
        }
       ],
       "dbfsResultPath": null,
       "isJsonSchema": true,
       "metadata": {
        "createTempViewForImplicitDf": true,
        "dataframeName": "_sqldf",
        "executionCount": 12
       },
       "overflow": false,
       "plotOptions": {
        "customPlotOptions": {},
        "displayType": "table",
        "pivotAggregation": null,
        "pivotColumns": null,
        "xColumns": null,
        "yColumns": null
       },
       "removedWidgets": [],
       "schema": [
        {
         "metadata": "{}",
         "name": "payment_method",
         "type": "\"string\""
        },
        {
         "metadata": "{}",
         "name": "trip_count",
         "type": "\"long\""
        },
        {
         "metadata": "{}",
         "name": "market_share_pct",
         "type": "\"decimal(26,1)\""
        },
        {
         "metadata": "{}",
         "name": "avg_fare",
         "type": "\"double\""
        },
        {
         "metadata": "{}",
         "name": "avg_tip_dollars",
         "type": "\"double\""
        },
        {
         "metadata": "{}",
         "name": "avg_tip_pct",
         "type": "\"double\""
        },
        {
         "metadata": "{}",
         "name": "total_revenue",
         "type": "\"double\""
        },
        {
         "metadata": "{}",
         "name": "tipping_category",
         "type": "\"string\""
        }
       ],
       "type": "table"
      }
     },
     "output_type": "display_data"
    }
   ],
   "source": [
    "SELECT \n",
    "    payment_method,\n",
    "    COUNT(*) as trip_count,\n",
    "    ROUND(COUNT(*) * 100.0 / SUM(COUNT(*)) OVER (), 1) as market_share_pct,\n",
    "    ROUND(AVG(fare_amount), 2) as avg_fare,\n",
    "    ROUND(AVG(tip_amount), 2) as avg_tip_dollars,\n",
    "    ROUND(AVG(tip_percentage), 1) as avg_tip_pct,\n",
    "    ROUND(SUM(total_amount), 0) as total_revenue,\n",
    "    CASE \n",
    "        WHEN AVG(tip_percentage) >= 20 THEN 'High Tippers'\n",
    "        WHEN AVG(tip_percentage) >= 15 THEN 'Good Tippers'\n",
    "        WHEN AVG(tip_percentage) >= 10 THEN 'Average Tippers'\n",
    "        ELSE 'Low Tippers'\n",
    "    END as tipping_category\n",
    "FROM uber_rides_enhanced\n",
    "GROUP BY payment_method\n",
    "ORDER BY trip_count DESC;"
   ]
  },
  {
   "cell_type": "markdown",
   "metadata": {
    "application/vnd.databricks.v1+cell": {
     "cellMetadata": {},
     "inputWidgets": {},
     "nuid": "22ab7ea7-8171-41cc-a747-3569dbb0fb26",
     "showTitle": false,
     "tableResultSettingsMap": {},
     "title": ""
    }
   },
   "source": [
    "### B. Distance-Based Pricing Analysis"
   ]
  },
  {
   "cell_type": "code",
   "execution_count": 0,
   "metadata": {
    "application/vnd.databricks.v1+cell": {
     "cellMetadata": {
      "byteLimit": 2048000,
      "rowLimit": 10000
     },
     "inputWidgets": {},
     "nuid": "f74b2f04-0c3f-4c27-a8ed-bce65f4cd1dc",
     "showTitle": false,
     "tableResultSettingsMap": {},
     "title": ""
    }
   },
   "outputs": [
    {
     "output_type": "display_data",
     "data": {
      "text/html": [
       "<style scoped>\n",
       "  .table-result-container {\n",
       "    max-height: 300px;\n",
       "    overflow: auto;\n",
       "  }\n",
       "  table, th, td {\n",
       "    border: 1px solid black;\n",
       "    border-collapse: collapse;\n",
       "  }\n",
       "  th, td {\n",
       "    padding: 5px;\n",
       "  }\n",
       "  th {\n",
       "    text-align: left;\n",
       "  }\n",
       "</style><div class='table-result-container'><table class='table-result'><thead style='background-color: white'><tr><th>distance_category</th><th>trip_count</th><th>trip_percentage</th><th>avg_distance</th><th>avg_fare</th><th>avg_total</th><th>avg_tip_pct</th><th>avg_duration_min</th><th>fare_per_mile</th><th>total_revenue</th></tr></thead><tbody><tr><td>0-1 miles (Short)</td><td>25055</td><td>25.4</td><td>0.7</td><td>5.76</td><td>7.44</td><td>14.0</td><td>8.0</td><td>11.81</td><td>186484.0</td></tr><tr><td>1-3 miles (Medium)</td><td>47191</td><td>47.9</td><td>1.8</td><td>9.98</td><td>12.26</td><td>14.0</td><td>15.0</td><td>5.87</td><td>578339.0</td></tr><tr><td>3-5 miles (Long)</td><td>10901</td><td>11.1</td><td>3.8</td><td>16.34</td><td>19.57</td><td>13.4</td><td>21.0</td><td>4.29</td><td>213279.0</td></tr><tr><td>5-10 miles (Very Long)</td><td>9237</td><td>9.4</td><td>7.1</td><td>24.56</td><td>30.15</td><td>13.9</td><td>29.0</td><td>3.49</td><td>278484.0</td></tr><tr><td>10+ miles (Airport/Long Distance)</td><td>6077</td><td>6.2</td><td>14.7</td><td>44.62</td><td>56.23</td><td>15.3</td><td>41.0</td><td>3.08</td><td>341717.0</td></tr></tbody></table></div>"
      ]
     },
     "metadata": {
      "application/vnd.databricks.v1+output": {
       "addedWidgets": {},
       "aggData": [],
       "aggError": "",
       "aggOverflow": false,
       "aggSchema": [],
       "aggSeriesLimitReached": false,
       "aggType": "",
       "arguments": {},
       "columnCustomDisplayInfos": {},
       "data": [
        [
         "0-1 miles (Short)",
         25055,
         "25.4",
         0.7,
         5.76,
         7.44,
         14.0,
         8.0,
         11.81,
         186484.0
        ],
        [
         "1-3 miles (Medium)",
         47191,
         "47.9",
         1.8,
         9.98,
         12.26,
         14.0,
         15.0,
         5.87,
         578339.0
        ],
        [
         "3-5 miles (Long)",
         10901,
         "11.1",
         3.8,
         16.34,
         19.57,
         13.4,
         21.0,
         4.29,
         213279.0
        ],
        [
         "5-10 miles (Very Long)",
         9237,
         "9.4",
         7.1,
         24.56,
         30.15,
         13.9,
         29.0,
         3.49,
         278484.0
        ],
        [
         "10+ miles (Airport/Long Distance)",
         6077,
         "6.2",
         14.7,
         44.62,
         56.23,
         15.3,
         41.0,
         3.08,
         341717.0
        ]
       ],
       "datasetInfos": [
        {
         "name": "_sqldf",
         "schema": {
          "fields": [
           {
            "metadata": {},
            "name": "distance_category",
            "nullable": false,
            "type": "string"
           },
           {
            "metadata": {},
            "name": "trip_count",
            "nullable": false,
            "type": "long"
           },
           {
            "metadata": {},
            "name": "trip_percentage",
            "nullable": true,
            "type": "decimal(26,1)"
           },
           {
            "metadata": {},
            "name": "avg_distance",
            "nullable": true,
            "type": "double"
           },
           {
            "metadata": {},
            "name": "avg_fare",
            "nullable": true,
            "type": "double"
           },
           {
            "metadata": {},
            "name": "avg_total",
            "nullable": true,
            "type": "double"
           },
           {
            "metadata": {},
            "name": "avg_tip_pct",
            "nullable": true,
            "type": "double"
           },
           {
            "metadata": {},
            "name": "avg_duration_min",
            "nullable": true,
            "type": "double"
           },
           {
            "metadata": {},
            "name": "fare_per_mile",
            "nullable": true,
            "type": "double"
           },
           {
            "metadata": {},
            "name": "total_revenue",
            "nullable": true,
            "type": "double"
           }
          ],
          "type": "struct"
         },
         "tableIdentifier": null,
         "typeStr": "pyspark.sql.connect.dataframe.DataFrame"
        }
       ],
       "dbfsResultPath": null,
       "isJsonSchema": true,
       "metadata": {
        "createTempViewForImplicitDf": true,
        "dataframeName": "_sqldf",
        "executionCount": 14
       },
       "overflow": false,
       "plotOptions": {
        "customPlotOptions": {},
        "displayType": "table",
        "pivotAggregation": null,
        "pivotColumns": null,
        "xColumns": null,
        "yColumns": null
       },
       "removedWidgets": [],
       "schema": [
        {
         "metadata": "{}",
         "name": "distance_category",
         "type": "\"string\""
        },
        {
         "metadata": "{}",
         "name": "trip_count",
         "type": "\"long\""
        },
        {
         "metadata": "{}",
         "name": "trip_percentage",
         "type": "\"decimal(26,1)\""
        },
        {
         "metadata": "{}",
         "name": "avg_distance",
         "type": "\"double\""
        },
        {
         "metadata": "{}",
         "name": "avg_fare",
         "type": "\"double\""
        },
        {
         "metadata": "{}",
         "name": "avg_total",
         "type": "\"double\""
        },
        {
         "metadata": "{}",
         "name": "avg_tip_pct",
         "type": "\"double\""
        },
        {
         "metadata": "{}",
         "name": "avg_duration_min",
         "type": "\"double\""
        },
        {
         "metadata": "{}",
         "name": "fare_per_mile",
         "type": "\"double\""
        },
        {
         "metadata": "{}",
         "name": "total_revenue",
         "type": "\"double\""
        }
       ],
       "type": "table"
      }
     },
     "output_type": "display_data"
    }
   ],
   "source": [
    "WITH distance_buckets AS (\n",
    "    SELECT \n",
    "        CASE \n",
    "            WHEN trip_distance <= 1 THEN '0-1 miles (Short)'\n",
    "            WHEN trip_distance <= 3 THEN '1-3 miles (Medium)'\n",
    "            WHEN trip_distance <= 5 THEN '3-5 miles (Long)'\n",
    "            WHEN trip_distance <= 10 THEN '5-10 miles (Very Long)'\n",
    "            ELSE '10+ miles (Airport/Long Distance)'\n",
    "        END as distance_category,\n",
    "        trip_distance,\n",
    "        fare_amount,\n",
    "        total_amount,\n",
    "        tip_percentage,\n",
    "        trip_duration_minutes,\n",
    "        speed_mph\n",
    "    FROM uber_rides_enhanced\n",
    "    WHERE trip_distance > 0 AND trip_distance <= 25  -- Remove extreme outliers\n",
    ")\n",
    "SELECT \n",
    "    distance_category,\n",
    "    COUNT(*) as trip_count,\n",
    "    ROUND(COUNT(*) * 100.0 / SUM(COUNT(*)) OVER (), 1) as trip_percentage,\n",
    "    ROUND(AVG(trip_distance), 1) as avg_distance,\n",
    "    ROUND(AVG(fare_amount), 2) as avg_fare,\n",
    "    ROUND(AVG(total_amount), 2) as avg_total,\n",
    "    ROUND(AVG(tip_percentage), 1) as avg_tip_pct,\n",
    "    ROUND(AVG(trip_duration_minutes), 0) as avg_duration_min,\n",
    "    ROUND(AVG(fare_amount / trip_distance), 2) as fare_per_mile,\n",
    "    ROUND(SUM(total_amount), 0) as total_revenue\n",
    "FROM distance_buckets\n",
    "GROUP BY distance_category\n",
    "ORDER BY \n",
    "    CASE \n",
    "        WHEN distance_category LIKE '%0-1%' THEN 1\n",
    "        WHEN distance_category LIKE '%1-3%' THEN 2\n",
    "        WHEN distance_category LIKE '%3-5%' THEN 3\n",
    "        WHEN distance_category LIKE '%5-10%' THEN 4\n",
    "        ELSE 5\n",
    "    END;"
   ]
  }
 ],
 "metadata": {
  "application/vnd.databricks.v1+notebook": {
   "computePreferences": null,
   "dashboards": [],
   "environmentMetadata": {
    "base_environment": "",
    "environment_version": "2"
   },
   "inputWidgetPreferences": null,
   "language": "sql",
   "notebookMetadata": {
    "pythonIndentUnit": 4
   },
   "notebookName": "Advanced Analytics",
   "widgets": {}
  },
  "language_info": {
   "name": "sql"
  }
 },
 "nbformat": 4,
 "nbformat_minor": 0
}