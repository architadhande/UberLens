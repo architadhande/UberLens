{
 "cells": [
  {
   "cell_type": "markdown",
   "metadata": {
    "application/vnd.databricks.v1+cell": {
     "cellMetadata": {},
     "inputWidgets": {},
     "nuid": "18518367-0558-4950-85c5-48546e31601e",
     "showTitle": false,
     "tableResultSettingsMap": {},
     "title": ""
    }
   },
   "source": [
    "## 1: Time series Analysis with Windows Functions"
   ]
  },
  {
   "cell_type": "code",
   "execution_count": 0,
   "metadata": {
    "application/vnd.databricks.v1+cell": {
     "cellMetadata": {
      "byteLimit": 2048000,
      "rowLimit": 10000
     },
     "inputWidgets": {},
     "nuid": "8af53bb2-3634-4cc8-9031-f703475a22b8",
     "showTitle": false,
     "tableResultSettingsMap": {},
     "title": ""
    }
   },
   "outputs": [
    {
     "output_type": "display_data",
     "data": {
      "text/html": [
       "<style scoped>\n",
       "  .table-result-container {\n",
       "    max-height: 300px;\n",
       "    overflow: auto;\n",
       "  }\n",
       "  table, th, td {\n",
       "    border: 1px solid black;\n",
       "    border-collapse: collapse;\n",
       "  }\n",
       "  th, td {\n",
       "    padding: 5px;\n",
       "  }\n",
       "  th {\n",
       "    text-align: left;\n",
       "  }\n",
       "</style><div class='table-result-container'><table class='table-result'><thead style='background-color: white'><tr><th>ride_date</th><th>daily_trips</th><th>daily_revenue</th><th>revenue_7day_moving_avg</th><th>revenue_growth_pct</th><th>revenue_rank</th><th>revenue_percentile_score</th><th>cumulative_revenue</th><th>day_performance_tier</th></tr></thead><tbody><tr><td>2016-03-01</td><td>22673</td><td>393959.0</td><td>393959.0</td><td>null</td><td>2</td><td>0.0</td><td>393959.0</td><td>Below Average Day</td></tr><tr><td>2016-03-10</td><td>75901</td><td>1217607.0</td><td>805783.0</td><td>209.07</td><td>1</td><td>100.0</td><td>1611566.0</td><td>Top 10% Day</td></tr></tbody></table></div>"
      ]
     },
     "metadata": {
      "application/vnd.databricks.v1+output": {
       "addedWidgets": {},
       "aggData": [],
       "aggError": "",
       "aggOverflow": false,
       "aggSchema": [],
       "aggSeriesLimitReached": false,
       "aggType": "",
       "arguments": {},
       "columnCustomDisplayInfos": {},
       "data": [
        [
         "2016-03-01",
         22673,
         393959.0,
         393959.0,
         null,
         2,
         0.0,
         393959.0,
         "Below Average Day"
        ],
        [
         "2016-03-10",
         75901,
         1217607.0,
         805783.0,
         209.07,
         1,
         100.0,
         1611566.0,
         "Top 10% Day"
        ]
       ],
       "datasetInfos": [
        {
         "name": "_sqldf",
         "schema": {
          "fields": [
           {
            "metadata": {},
            "name": "ride_date",
            "nullable": true,
            "type": "date"
           },
           {
            "metadata": {},
            "name": "daily_trips",
            "nullable": false,
            "type": "long"
           },
           {
            "metadata": {},
            "name": "daily_revenue",
            "nullable": true,
            "type": "double"
           },
           {
            "metadata": {},
            "name": "revenue_7day_moving_avg",
            "nullable": true,
            "type": "double"
           },
           {
            "metadata": {},
            "name": "revenue_growth_pct",
            "nullable": true,
            "type": "double"
           },
           {
            "metadata": {},
            "name": "revenue_rank",
            "nullable": false,
            "type": "integer"
           },
           {
            "metadata": {},
            "name": "revenue_percentile_score",
            "nullable": true,
            "type": "double"
           },
           {
            "metadata": {},
            "name": "cumulative_revenue",
            "nullable": true,
            "type": "double"
           },
           {
            "metadata": {},
            "name": "day_performance_tier",
            "nullable": false,
            "type": "string"
           }
          ],
          "type": "struct"
         },
         "tableIdentifier": null,
         "typeStr": "pyspark.sql.connect.dataframe.DataFrame"
        }
       ],
       "dbfsResultPath": null,
       "isJsonSchema": true,
       "metadata": {
        "createTempViewForImplicitDf": true,
        "dataframeName": "_sqldf",
        "executionCount": 1
       },
       "overflow": false,
       "plotOptions": {
        "customPlotOptions": {},
        "displayType": "table",
        "pivotAggregation": null,
        "pivotColumns": null,
        "xColumns": null,
        "yColumns": null
       },
       "removedWidgets": [],
       "schema": [
        {
         "metadata": "{}",
         "name": "ride_date",
         "type": "\"date\""
        },
        {
         "metadata": "{}",
         "name": "daily_trips",
         "type": "\"long\""
        },
        {
         "metadata": "{}",
         "name": "daily_revenue",
         "type": "\"double\""
        },
        {
         "metadata": "{}",
         "name": "revenue_7day_moving_avg",
         "type": "\"double\""
        },
        {
         "metadata": "{}",
         "name": "revenue_growth_pct",
         "type": "\"double\""
        },
        {
         "metadata": "{}",
         "name": "revenue_rank",
         "type": "\"integer\""
        },
        {
         "metadata": "{}",
         "name": "revenue_percentile_score",
         "type": "\"double\""
        },
        {
         "metadata": "{}",
         "name": "cumulative_revenue",
         "type": "\"double\""
        },
        {
         "metadata": "{}",
         "name": "day_performance_tier",
         "type": "\"string\""
        }
       ],
       "type": "table"
      }
     },
     "output_type": "display_data"
    }
   ],
   "source": [
    "-- Advanced time series analysis using Databricks SQL\n",
    "WITH daily_metrics AS (\n",
    "    SELECT \n",
    "        DATE(tpep_pickup_datetime) as ride_date,\n",
    "        COUNT(*) as daily_trips,\n",
    "        SUM(total_amount) as daily_revenue,\n",
    "        AVG(fare_amount) as daily_avg_fare,\n",
    "        AVG(tip_percentage) as daily_avg_tip_pct\n",
    "    FROM uber_rides_enhanced\n",
    "    GROUP BY DATE(tpep_pickup_datetime)\n",
    "),\n",
    "time_series_analysis AS (\n",
    "    SELECT \n",
    "        ride_date,\n",
    "        daily_trips,\n",
    "        daily_revenue,\n",
    "        daily_avg_fare,\n",
    "        \n",
    "        -- Moving averages (7-day window)\n",
    "        AVG(daily_revenue) OVER (\n",
    "            ORDER BY ride_date \n",
    "            ROWS BETWEEN 6 PRECEDING AND CURRENT ROW\n",
    "        ) as revenue_7day_ma,\n",
    "        \n",
    "        -- Revenue growth rate\n",
    "        LAG(daily_revenue, 1) OVER (ORDER BY ride_date) as prev_day_revenue,\n",
    "        ROUND(\n",
    "            (daily_revenue - LAG(daily_revenue, 1) OVER (ORDER BY ride_date)) / \n",
    "            LAG(daily_revenue, 1) OVER (ORDER BY ride_date) * 100, 2\n",
    "        ) as revenue_growth_pct,\n",
    "        \n",
    "        -- Rank days by performance\n",
    "        RANK() OVER (ORDER BY daily_revenue DESC) as revenue_rank,\n",
    "        RANK() OVER (ORDER BY daily_trips DESC) as volume_rank,\n",
    "        \n",
    "        -- Percentile analysis\n",
    "        PERCENT_RANK() OVER (ORDER BY daily_revenue) as revenue_percentile,\n",
    "        \n",
    "        -- Cumulative metrics\n",
    "        SUM(daily_revenue) OVER (\n",
    "            ORDER BY ride_date \n",
    "            ROWS UNBOUNDED PRECEDING\n",
    "        ) as cumulative_revenue\n",
    "        \n",
    "    FROM daily_metrics\n",
    ")\n",
    "SELECT \n",
    "    ride_date,\n",
    "    daily_trips,\n",
    "    ROUND(daily_revenue, 0) as daily_revenue,\n",
    "    ROUND(revenue_7day_ma, 0) as revenue_7day_moving_avg,\n",
    "    revenue_growth_pct,\n",
    "    revenue_rank,\n",
    "    ROUND(revenue_percentile * 100, 1) as revenue_percentile_score,\n",
    "    ROUND(cumulative_revenue, 0) as cumulative_revenue,\n",
    "    \n",
    "    -- Performance classification\n",
    "    CASE \n",
    "        WHEN revenue_percentile >= 0.9 THEN 'Top 10% Day'\n",
    "        WHEN revenue_percentile >= 0.75 THEN 'Top 25% Day'\n",
    "        WHEN revenue_percentile >= 0.5 THEN 'Above Average Day'\n",
    "        WHEN revenue_percentile >= 0.25 THEN 'Average Day'\n",
    "        ELSE 'Below Average Day'\n",
    "    END as day_performance_tier\n",
    "    \n",
    "FROM time_series_analysis\n",
    "ORDER BY ride_date;"
   ]
  },
  {
   "cell_type": "markdown",
   "metadata": {
    "application/vnd.databricks.v1+cell": {
     "cellMetadata": {},
     "inputWidgets": {},
     "nuid": "eba26f7c-4c1e-4926-acbb-def7c102dbf6",
     "showTitle": false,
     "tableResultSettingsMap": {},
     "title": ""
    }
   },
   "source": [
    "## 2. Geographic Clustering Analysis"
   ]
  },
  {
   "cell_type": "code",
   "execution_count": 0,
   "metadata": {
    "application/vnd.databricks.v1+cell": {
     "cellMetadata": {
      "byteLimit": 2048000,
      "rowLimit": 10000
     },
     "inputWidgets": {},
     "nuid": "c0905a54-cada-43e0-aab9-07620642d945",
     "showTitle": false,
     "tableResultSettingsMap": {},
     "title": ""
    }
   },
   "outputs": [
    {
     "output_type": "display_data",
     "data": {
      "text/html": [
       "<style scoped>\n",
       "  .table-result-container {\n",
       "    max-height: 300px;\n",
       "    overflow: auto;\n",
       "  }\n",
       "  table, th, td {\n",
       "    border: 1px solid black;\n",
       "    border-collapse: collapse;\n",
       "  }\n",
       "  th, td {\n",
       "    padding: 5px;\n",
       "  }\n",
       "  th {\n",
       "    text-align: left;\n",
       "  }\n",
       "</style><div class='table-result-container'><table class='table-result'><thead style='background-color: white'><tr><th>lat_cluster</th><th>lng_cluster</th><th>trip_count</th><th>revenue</th><th>avg_fare</th><th>median_fare</th><th>avg_tip_pct</th><th>zone_classification</th><th>rush_hour_dependency_pct</th><th>weekend_activity_pct</th><th>fare_volatility_pct</th><th>zone_pattern</th></tr></thead><tbody><tr><td>40.75</td><td>-73.99</td><td>6335</td><td>89254.0</td><td>11.44</td><td>9.0</td><td>13.8</td><td>Premium Zone</td><td>31.4</td><td>0.0</td><td>71.5</td><td>Mixed-Use Zone</td></tr><tr><td>40.76</td><td>-73.98</td><td>5359</td><td>88579.0</td><td>13.12</td><td>9.5</td><td>15.1</td><td>Premium Zone</td><td>20.5</td><td>0.0</td><td>87.4</td><td>Mixed-Use Zone</td></tr><tr><td>40.76</td><td>-73.97</td><td>6071</td><td>87746.0</td><td>11.61</td><td>9.0</td><td>14.6</td><td>Premium Zone</td><td>24.8</td><td>0.0</td><td>77.6</td><td>Mixed-Use Zone</td></tr><tr><td>40.75</td><td>-73.98</td><td>5430</td><td>77956.0</td><td>11.4</td><td>8.5</td><td>15.2</td><td>Premium Zone</td><td>32.3</td><td>0.0</td><td>78.8</td><td>Mixed-Use Zone</td></tr><tr><td>40.76</td><td>-73.99</td><td>4767</td><td>72742.0</td><td>12.38</td><td>9.0</td><td>12.9</td><td>Premium Zone</td><td>28.7</td><td>0.0</td><td>83.8</td><td>Mixed-Use Zone</td></tr><tr><td>40.74</td><td>-73.99</td><td>4171</td><td>58472.0</td><td>11.19</td><td>9.0</td><td>15.9</td><td>Premium Zone</td><td>27.8</td><td>0.0</td><td>70.1</td><td>Mixed-Use Zone</td></tr><tr><td>40.77</td><td>-73.87</td><td>1178</td><td>51602.0</td><td>33.65</td><td>34.0</td><td>15.4</td><td>Premium Zone</td><td>28.7</td><td>0.0</td><td>36.8</td><td>Mixed-Use Zone</td></tr><tr><td>40.77</td><td>-73.96</td><td>3977</td><td>50944.0</td><td>10.4</td><td>8.5</td><td>13.5</td><td>Premium Zone</td><td>41.2</td><td>0.0</td><td>69.0</td><td>Business District Pattern</td></tr><tr><td>40.77</td><td>-73.86</td><td>956</td><td>46081.0</td><td>36.47</td><td>36.5</td><td>17.8</td><td>Premium Zone</td><td>31.9</td><td>0.0</td><td>26.8</td><td>Mixed-Use Zone</td></tr><tr><td>40.77</td><td>-73.98</td><td>2931</td><td>42810.0</td><td>11.83</td><td>9.5</td><td>14.0</td><td>High-Value Zone</td><td>30.4</td><td>0.0</td><td>75.7</td><td>Mixed-Use Zone</td></tr><tr><td>40.73</td><td>-73.99</td><td>2944</td><td>42414.0</td><td>11.63</td><td>9.5</td><td>14.6</td><td>High-Value Zone</td><td>29.5</td><td>0.0</td><td>72.2</td><td>Mixed-Use Zone</td></tr><tr><td>40.78</td><td>-73.95</td><td>2819</td><td>40928.0</td><td>11.85</td><td>10.0</td><td>13.7</td><td>High-Value Zone</td><td>44.4</td><td>0.0</td><td>80.5</td><td>Business District Pattern</td></tr><tr><td>40.74</td><td>-73.98</td><td>2817</td><td>38266.0</td><td>10.91</td><td>8.5</td><td>14.5</td><td>High-Value Zone</td><td>41.8</td><td>0.0</td><td>75.0</td><td>Business District Pattern</td></tr><tr><td>40.75</td><td>-73.97</td><td>2402</td><td>38044.0</td><td>12.68</td><td>10.0</td><td>14.4</td><td>High-Value Zone</td><td>34.1</td><td>0.0</td><td>71.7</td><td>Mixed-Use Zone</td></tr><tr><td>40.78</td><td>-73.96</td><td>2941</td><td>38009.0</td><td>10.56</td><td>9.0</td><td>13.3</td><td>High-Value Zone</td><td>37.8</td><td>0.0</td><td>64.8</td><td>Mixed-Use Zone</td></tr><tr><td>40.65</td><td>-73.78</td><td>663</td><td>36684.0</td><td>45.85</td><td>52.0</td><td>12.0</td><td>High-Value Zone</td><td>15.1</td><td>0.0</td><td>26.8</td><td>Mixed-Use Zone</td></tr><tr><td>40.74</td><td>-74.0</td><td>2614</td><td>36667.0</td><td>11.27</td><td>8.5</td><td>14.4</td><td>High-Value Zone</td><td>30.0</td><td>0.0</td><td>76.2</td><td>Mixed-Use Zone</td></tr><tr><td>40.71</td><td>-74.01</td><td>1748</td><td>36632.0</td><td>17.0</td><td>15.0</td><td>15.3</td><td>High-Value Zone</td><td>23.7</td><td>0.0</td><td>66.8</td><td>Mixed-Use Zone</td></tr><tr><td>40.73</td><td>-74.0</td><td>2456</td><td>36363.0</td><td>12.06</td><td>9.5</td><td>14.2</td><td>High-Value Zone</td><td>26.2</td><td>0.0</td><td>73.6</td><td>Mixed-Use Zone</td></tr><tr><td>40.77</td><td>-73.95</td><td>2376</td><td>35720.0</td><td>12.26</td><td>10.5</td><td>14.0</td><td>High-Value Zone</td><td>46.3</td><td>0.0</td><td>60.3</td><td>Business District Pattern</td></tr><tr><td>40.64</td><td>-73.78</td><td>639</td><td>34854.0</td><td>45.61</td><td>52.0</td><td>11.5</td><td>High-Value Zone</td><td>16.3</td><td>0.0</td><td>32.3</td><td>Mixed-Use Zone</td></tr><tr><td>40.78</td><td>-73.98</td><td>2280</td><td>31582.0</td><td>11.17</td><td>9.0</td><td>13.9</td><td>High-Value Zone</td><td>37.1</td><td>0.0</td><td>73.8</td><td>Mixed-Use Zone</td></tr><tr><td>40.76</td><td>-73.96</td><td>1937</td><td>26023.0</td><td>11.05</td><td>9.0</td><td>12.6</td><td>High-Value Zone</td><td>42.8</td><td>0.0</td><td>62.8</td><td>Business District Pattern</td></tr><tr><td>40.79</td><td>-73.97</td><td>1739</td><td>24189.0</td><td>11.29</td><td>9.0</td><td>13.4</td><td>High-Value Zone</td><td>39.4</td><td>0.0</td><td>70.8</td><td>Mixed-Use Zone</td></tr><tr><td>40.72</td><td>-73.99</td><td>1478</td><td>23337.0</td><td>13.04</td><td>11.0</td><td>12.6</td><td>High-Value Zone</td><td>19.5</td><td>0.0</td><td>66.3</td><td>Mixed-Use Zone</td></tr></tbody></table></div>"
      ]
     },
     "metadata": {
      "application/vnd.databricks.v1+output": {
       "addedWidgets": {},
       "aggData": [],
       "aggError": "",
       "aggOverflow": false,
       "aggSchema": [],
       "aggSeriesLimitReached": false,
       "aggType": "",
       "arguments": {},
       "columnCustomDisplayInfos": {},
       "data": [
        [
         40.75,
         -73.99,
         6335,
         89254.0,
         11.44,
         9.0,
         13.8,
         "Premium Zone",
         "31.4",
         "0.0",
         71.5,
         "Mixed-Use Zone"
        ],
        [
         40.76,
         -73.98,
         5359,
         88579.0,
         13.12,
         9.5,
         15.1,
         "Premium Zone",
         "20.5",
         "0.0",
         87.4,
         "Mixed-Use Zone"
        ],
        [
         40.76,
         -73.97,
         6071,
         87746.0,
         11.61,
         9.0,
         14.6,
         "Premium Zone",
         "24.8",
         "0.0",
         77.6,
         "Mixed-Use Zone"
        ],
        [
         40.75,
         -73.98,
         5430,
         77956.0,
         11.4,
         8.5,
         15.2,
         "Premium Zone",
         "32.3",
         "0.0",
         78.8,
         "Mixed-Use Zone"
        ],
        [
         40.76,
         -73.99,
         4767,
         72742.0,
         12.38,
         9.0,
         12.9,
         "Premium Zone",
         "28.7",
         "0.0",
         83.8,
         "Mixed-Use Zone"
        ],
        [
         40.74,
         -73.99,
         4171,
         58472.0,
         11.19,
         9.0,
         15.9,
         "Premium Zone",
         "27.8",
         "0.0",
         70.1,
         "Mixed-Use Zone"
        ],
        [
         40.77,
         -73.87,
         1178,
         51602.0,
         33.65,
         34.0,
         15.4,
         "Premium Zone",
         "28.7",
         "0.0",
         36.8,
         "Mixed-Use Zone"
        ],
        [
         40.77,
         -73.96,
         3977,
         50944.0,
         10.4,
         8.5,
         13.5,
         "Premium Zone",
         "41.2",
         "0.0",
         69.0,
         "Business District Pattern"
        ],
        [
         40.77,
         -73.86,
         956,
         46081.0,
         36.47,
         36.5,
         17.8,
         "Premium Zone",
         "31.9",
         "0.0",
         26.8,
         "Mixed-Use Zone"
        ],
        [
         40.77,
         -73.98,
         2931,
         42810.0,
         11.83,
         9.5,
         14.0,
         "High-Value Zone",
         "30.4",
         "0.0",
         75.7,
         "Mixed-Use Zone"
        ],
        [
         40.73,
         -73.99,
         2944,
         42414.0,
         11.63,
         9.5,
         14.6,
         "High-Value Zone",
         "29.5",
         "0.0",
         72.2,
         "Mixed-Use Zone"
        ],
        [
         40.78,
         -73.95,
         2819,
         40928.0,
         11.85,
         10.0,
         13.7,
         "High-Value Zone",
         "44.4",
         "0.0",
         80.5,
         "Business District Pattern"
        ],
        [
         40.74,
         -73.98,
         2817,
         38266.0,
         10.91,
         8.5,
         14.5,
         "High-Value Zone",
         "41.8",
         "0.0",
         75.0,
         "Business District Pattern"
        ],
        [
         40.75,
         -73.97,
         2402,
         38044.0,
         12.68,
         10.0,
         14.4,
         "High-Value Zone",
         "34.1",
         "0.0",
         71.7,
         "Mixed-Use Zone"
        ],
        [
         40.78,
         -73.96,
         2941,
         38009.0,
         10.56,
         9.0,
         13.3,
         "High-Value Zone",
         "37.8",
         "0.0",
         64.8,
         "Mixed-Use Zone"
        ],
        [
         40.65,
         -73.78,
         663,
         36684.0,
         45.85,
         52.0,
         12.0,
         "High-Value Zone",
         "15.1",
         "0.0",
         26.8,
         "Mixed-Use Zone"
        ],
        [
         40.74,
         -74.0,
         2614,
         36667.0,
         11.27,
         8.5,
         14.4,
         "High-Value Zone",
         "30.0",
         "0.0",
         76.2,
         "Mixed-Use Zone"
        ],
        [
         40.71,
         -74.01,
         1748,
         36632.0,
         17.0,
         15.0,
         15.3,
         "High-Value Zone",
         "23.7",
         "0.0",
         66.8,
         "Mixed-Use Zone"
        ],
        [
         40.73,
         -74.0,
         2456,
         36363.0,
         12.06,
         9.5,
         14.2,
         "High-Value Zone",
         "26.2",
         "0.0",
         73.6,
         "Mixed-Use Zone"
        ],
        [
         40.77,
         -73.95,
         2376,
         35720.0,
         12.26,
         10.5,
         14.0,
         "High-Value Zone",
         "46.3",
         "0.0",
         60.3,
         "Business District Pattern"
        ],
        [
         40.64,
         -73.78,
         639,
         34854.0,
         45.61,
         52.0,
         11.5,
         "High-Value Zone",
         "16.3",
         "0.0",
         32.3,
         "Mixed-Use Zone"
        ],
        [
         40.78,
         -73.98,
         2280,
         31582.0,
         11.17,
         9.0,
         13.9,
         "High-Value Zone",
         "37.1",
         "0.0",
         73.8,
         "Mixed-Use Zone"
        ],
        [
         40.76,
         -73.96,
         1937,
         26023.0,
         11.05,
         9.0,
         12.6,
         "High-Value Zone",
         "42.8",
         "0.0",
         62.8,
         "Business District Pattern"
        ],
        [
         40.79,
         -73.97,
         1739,
         24189.0,
         11.29,
         9.0,
         13.4,
         "High-Value Zone",
         "39.4",
         "0.0",
         70.8,
         "Mixed-Use Zone"
        ],
        [
         40.72,
         -73.99,
         1478,
         23337.0,
         13.04,
         11.0,
         12.6,
         "High-Value Zone",
         "19.5",
         "0.0",
         66.3,
         "Mixed-Use Zone"
        ]
       ],
       "datasetInfos": [
        {
         "name": "_sqldf",
         "schema": {
          "fields": [
           {
            "metadata": {},
            "name": "lat_cluster",
            "nullable": true,
            "type": "double"
           },
           {
            "metadata": {},
            "name": "lng_cluster",
            "nullable": true,
            "type": "double"
           },
           {
            "metadata": {},
            "name": "trip_count",
            "nullable": false,
            "type": "long"
           },
           {
            "metadata": {},
            "name": "revenue",
            "nullable": true,
            "type": "double"
           },
           {
            "metadata": {},
            "name": "avg_fare",
            "nullable": true,
            "type": "double"
           },
           {
            "metadata": {},
            "name": "median_fare",
            "nullable": true,
            "type": "double"
           },
           {
            "metadata": {},
            "name": "avg_tip_pct",
            "nullable": true,
            "type": "double"
           },
           {
            "metadata": {},
            "name": "zone_classification",
            "nullable": false,
            "type": "string"
           },
           {
            "metadata": {},
            "name": "rush_hour_dependency_pct",
            "nullable": true,
            "type": "decimal(26,1)"
           },
           {
            "metadata": {},
            "name": "weekend_activity_pct",
            "nullable": true,
            "type": "decimal(26,1)"
           },
           {
            "metadata": {},
            "name": "fare_volatility_pct",
            "nullable": true,
            "type": "double"
           },
           {
            "metadata": {},
            "name": "zone_pattern",
            "nullable": false,
            "type": "string"
           }
          ],
          "type": "struct"
         },
         "tableIdentifier": null,
         "typeStr": "pyspark.sql.connect.dataframe.DataFrame"
        }
       ],
       "dbfsResultPath": null,
       "isJsonSchema": true,
       "metadata": {
        "createTempViewForImplicitDf": true,
        "dataframeName": "_sqldf",
        "executionCount": 4
       },
       "overflow": false,
       "plotOptions": {
        "customPlotOptions": {},
        "displayType": "table",
        "pivotAggregation": null,
        "pivotColumns": null,
        "xColumns": null,
        "yColumns": null
       },
       "removedWidgets": [],
       "schema": [
        {
         "metadata": "{}",
         "name": "lat_cluster",
         "type": "\"double\""
        },
        {
         "metadata": "{}",
         "name": "lng_cluster",
         "type": "\"double\""
        },
        {
         "metadata": "{}",
         "name": "trip_count",
         "type": "\"long\""
        },
        {
         "metadata": "{}",
         "name": "revenue",
         "type": "\"double\""
        },
        {
         "metadata": "{}",
         "name": "avg_fare",
         "type": "\"double\""
        },
        {
         "metadata": "{}",
         "name": "median_fare",
         "type": "\"double\""
        },
        {
         "metadata": "{}",
         "name": "avg_tip_pct",
         "type": "\"double\""
        },
        {
         "metadata": "{}",
         "name": "zone_classification",
         "type": "\"string\""
        },
        {
         "metadata": "{}",
         "name": "rush_hour_dependency_pct",
         "type": "\"decimal(26,1)\""
        },
        {
         "metadata": "{}",
         "name": "weekend_activity_pct",
         "type": "\"decimal(26,1)\""
        },
        {
         "metadata": "{}",
         "name": "fare_volatility_pct",
         "type": "\"double\""
        },
        {
         "metadata": "{}",
         "name": "zone_pattern",
         "type": "\"string\""
        }
       ],
       "type": "table"
      }
     },
     "output_type": "display_data"
    }
   ],
   "source": [
    "-- Geographic clustering with statistical analysis\n",
    "WITH location_clusters AS (\n",
    "    SELECT \n",
    "        ROUND(pickup_latitude, 2) as lat_cluster,\n",
    "        ROUND(pickup_longitude, 2) as lng_cluster,\n",
    "        COUNT(*) as trip_count,\n",
    "        SUM(total_amount) as cluster_revenue,\n",
    "        AVG(fare_amount) as avg_fare,\n",
    "        AVG(tip_percentage) as avg_tip_pct,\n",
    "        AVG(trip_distance) as avg_distance,\n",
    "        STDDEV(fare_amount) as fare_std_dev,\n",
    "        \n",
    "        -- Time-based patterns within clusters\n",
    "        COUNT(CASE WHEN is_rush_hour = 1 THEN 1 END) as rush_hour_trips,\n",
    "        COUNT(CASE WHEN is_weekend = 1 THEN 1 END) as weekend_trips,\n",
    "        \n",
    "        -- Advanced metrics\n",
    "        PERCENTILE_CONT(0.5) WITHIN GROUP (ORDER BY fare_amount) as median_fare,\n",
    "        PERCENTILE_CONT(0.95) WITHIN GROUP (ORDER BY fare_amount) as p95_fare\n",
    "        \n",
    "    FROM uber_rides_enhanced\n",
    "    GROUP BY ROUND(pickup_latitude, 2), ROUND(pickup_longitude, 2)\n",
    "    HAVING COUNT(*) >= 50  -- Focus on significant clusters\n",
    "),\n",
    "cluster_statistics AS (\n",
    "    SELECT *,\n",
    "        -- Statistical classification\n",
    "        CASE \n",
    "            WHEN cluster_revenue >= PERCENTILE_CONT(0.9) WITHIN GROUP (ORDER BY cluster_revenue) OVER () THEN 'Premium Zone'\n",
    "            WHEN cluster_revenue >= PERCENTILE_CONT(0.7) WITHIN GROUP (ORDER BY cluster_revenue) OVER () THEN 'High-Value Zone'\n",
    "            WHEN cluster_revenue >= PERCENTILE_CONT(0.3) WITHIN GROUP (ORDER BY cluster_revenue) OVER () THEN 'Standard Zone'\n",
    "            ELSE 'Opportunity Zone'\n",
    "        END as zone_classification,\n",
    "        \n",
    "        -- Rush hour dependency\n",
    "        ROUND(rush_hour_trips * 100.0 / trip_count, 1) as rush_hour_dependency_pct,\n",
    "        \n",
    "        -- Weekend activity\n",
    "        ROUND(weekend_trips * 100.0 / trip_count, 1) as weekend_activity_pct,\n",
    "        \n",
    "        -- Price volatility\n",
    "        ROUND(fare_std_dev / avg_fare * 100, 1) as fare_volatility_pct\n",
    "        \n",
    "    FROM location_clusters\n",
    ")\n",
    "SELECT \n",
    "    lat_cluster,\n",
    "    lng_cluster,\n",
    "    trip_count,\n",
    "    ROUND(cluster_revenue, 0) as revenue,\n",
    "    ROUND(avg_fare, 2) as avg_fare,\n",
    "    ROUND(median_fare, 2) as median_fare,\n",
    "    ROUND(avg_tip_pct, 1) as avg_tip_pct,\n",
    "    zone_classification,\n",
    "    rush_hour_dependency_pct,\n",
    "    weekend_activity_pct,\n",
    "    fare_volatility_pct,\n",
    "    \n",
    "    -- Strategic insights\n",
    "    CASE \n",
    "        WHEN rush_hour_dependency_pct >= 40 THEN 'Business District Pattern'\n",
    "        WHEN weekend_activity_pct >= 30 THEN 'Entertainment District Pattern'\n",
    "        WHEN fare_volatility_pct <= 15 THEN 'Stable Pricing Zone'\n",
    "        ELSE 'Mixed-Use Zone'\n",
    "    END as zone_pattern\n",
    "    \n",
    "FROM cluster_statistics\n",
    "ORDER BY cluster_revenue DESC\n",
    "LIMIT 25;"
   ]
  }
 ],
 "metadata": {
  "application/vnd.databricks.v1+notebook": {
   "computePreferences": null,
   "dashboards": [],
   "environmentMetadata": {
    "base_environment": "",
    "environment_version": "2"
   },
   "inputWidgetPreferences": null,
   "language": "sql",
   "notebookMetadata": {},
   "notebookName": "Statistical Analysis",
   "widgets": {}
  },
  "language_info": {
   "name": "sql"
  }
 },
 "nbformat": 4,
 "nbformat_minor": 0
}